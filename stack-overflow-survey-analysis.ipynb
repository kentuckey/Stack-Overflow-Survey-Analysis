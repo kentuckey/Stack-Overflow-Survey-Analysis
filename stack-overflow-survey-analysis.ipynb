{
 "cells": [
  {
   "cell_type": "markdown",
   "id": "9e72a71f",
   "metadata": {
    "papermill": {
     "duration": 0.008109,
     "end_time": "2024-09-13T19:13:25.257848",
     "exception": false,
     "start_time": "2024-09-13T19:13:25.249739",
     "status": "completed"
    },
    "tags": []
   },
   "source": [
    "# Analysis on Stack Overflow 2023 Developer Survey"
   ]
  },
  {
   "cell_type": "markdown",
   "id": "7ab6c0e9",
   "metadata": {
    "papermill": {
     "duration": 0.007245,
     "end_time": "2024-09-13T19:13:25.272355",
     "exception": false,
     "start_time": "2024-09-13T19:13:25.265110",
     "status": "completed"
    },
    "tags": []
   },
   "source": [
    "### The enclosed data set is the complete, cleaned results of the 2023 Stack Overflow Developer Survey. For more details on using this dataset, see [Stack Overflow](https://www.kaggle.com/datasets/stackoverflow/stack-overflow-2023-developers-survey?resource=download&select=survey_results_public.csv)\n",
    "\n",
    "\n",
    "\n",
    "\n",
    "### This analysis answers five questions that draws insignts into some key aspects of professional developers. First, we import all necessary packages"
   ]
  },
  {
   "cell_type": "code",
   "execution_count": 1,
   "id": "aa5eb571",
   "metadata": {
    "execution": {
     "iopub.execute_input": "2024-09-13T19:13:25.291131Z",
     "iopub.status.busy": "2024-09-13T19:13:25.288878Z",
     "iopub.status.idle": "2024-09-13T19:13:41.178990Z",
     "shell.execute_reply": "2024-09-13T19:13:41.177060Z"
    },
    "papermill": {
     "duration": 15.902064,
     "end_time": "2024-09-13T19:13:41.181563",
     "exception": false,
     "start_time": "2024-09-13T19:13:25.279499",
     "status": "completed"
    },
    "tags": []
   },
   "outputs": [
    {
     "name": "stderr",
     "output_type": "stream",
     "text": [
      "Installing package into ‘/usr/local/lib/R/site-library’\n",
      "(as ‘lib’ is unspecified)\n",
      "\n"
     ]
    },
    {
     "name": "stderr",
     "output_type": "stream",
     "text": [
      "── \u001b[1mAttaching core tidyverse packages\u001b[22m ──────────────────────── tidyverse 2.0.0 ──\n",
      "\u001b[32m✔\u001b[39m \u001b[34mdplyr    \u001b[39m 1.1.4     \u001b[32m✔\u001b[39m \u001b[34mreadr    \u001b[39m 2.1.5\n",
      "\u001b[32m✔\u001b[39m \u001b[34mforcats  \u001b[39m 1.0.0     \u001b[32m✔\u001b[39m \u001b[34mstringr  \u001b[39m 1.5.1\n",
      "\u001b[32m✔\u001b[39m \u001b[34mggplot2  \u001b[39m 3.5.1     \u001b[32m✔\u001b[39m \u001b[34mtibble   \u001b[39m 3.2.1\n",
      "\u001b[32m✔\u001b[39m \u001b[34mlubridate\u001b[39m 1.9.3     \u001b[32m✔\u001b[39m \u001b[34mtidyr    \u001b[39m 1.3.1\n",
      "\u001b[32m✔\u001b[39m \u001b[34mpurrr    \u001b[39m 1.0.2     \n"
     ]
    },
    {
     "name": "stderr",
     "output_type": "stream",
     "text": [
      "── \u001b[1mConflicts\u001b[22m ────────────────────────────────────────── tidyverse_conflicts() ──\n",
      "\u001b[31m✖\u001b[39m \u001b[34mdplyr\u001b[39m::\u001b[32mfilter()\u001b[39m masks \u001b[34mstats\u001b[39m::filter()\n",
      "\u001b[31m✖\u001b[39m \u001b[34mdplyr\u001b[39m::\u001b[32mlag()\u001b[39m    masks \u001b[34mstats\u001b[39m::lag()\n",
      "\u001b[36mℹ\u001b[39m Use the conflicted package (\u001b[3m\u001b[34m<http://conflicted.r-lib.org/>\u001b[39m\u001b[23m) to force all conflicts to become errors\n"
     ]
    }
   ],
   "source": [
    "install.packages(\"tidyverse\")\n",
    "library(tidyverse)"
   ]
  },
  {
   "cell_type": "code",
   "execution_count": 2,
   "id": "f2ff3991",
   "metadata": {
    "execution": {
     "iopub.execute_input": "2024-09-13T19:13:41.231856Z",
     "iopub.status.busy": "2024-09-13T19:13:41.198848Z",
     "iopub.status.idle": "2024-09-13T19:14:21.261090Z",
     "shell.execute_reply": "2024-09-13T19:14:21.259067Z"
    },
    "papermill": {
     "duration": 40.074905,
     "end_time": "2024-09-13T19:14:21.264096",
     "exception": false,
     "start_time": "2024-09-13T19:13:41.189191",
     "status": "completed"
    },
    "tags": []
   },
   "outputs": [
    {
     "name": "stderr",
     "output_type": "stream",
     "text": [
      "Installing package into ‘/usr/local/lib/R/site-library’\n",
      "(as ‘lib’ is unspecified)\n",
      "\n"
     ]
    },
    {
     "name": "stderr",
     "output_type": "stream",
     "text": [
      "Installing package into ‘/usr/local/lib/R/site-library’\n",
      "(as ‘lib’ is unspecified)\n",
      "\n"
     ]
    }
   ],
   "source": [
    "install.packages('dplyr')\n",
    "library(dplyr)\n",
    "install.packages(\"tidyr\")\n",
    "library(tidyr)"
   ]
  },
  {
   "cell_type": "markdown",
   "id": "fd9a5759",
   "metadata": {
    "papermill": {
     "duration": 0.007563,
     "end_time": "2024-09-13T19:14:21.280129",
     "exception": false,
     "start_time": "2024-09-13T19:14:21.272566",
     "status": "completed"
    },
    "tags": []
   },
   "source": [
    "## Loading the Dataset"
   ]
  },
  {
   "cell_type": "code",
   "execution_count": 3,
   "id": "671771c8",
   "metadata": {
    "execution": {
     "iopub.execute_input": "2024-09-13T19:14:21.299029Z",
     "iopub.status.busy": "2024-09-13T19:14:21.297388Z",
     "iopub.status.idle": "2024-09-13T19:14:29.086031Z",
     "shell.execute_reply": "2024-09-13T19:14:29.084041Z"
    },
    "papermill": {
     "duration": 7.801303,
     "end_time": "2024-09-13T19:14:29.089046",
     "exception": false,
     "start_time": "2024-09-13T19:14:21.287743",
     "status": "completed"
    },
    "tags": []
   },
   "outputs": [],
   "source": [
    "survey_results <- read.csv(\"/kaggle/input/stackoverflow-survey/survey_results_public.csv\")"
   ]
  },
  {
   "cell_type": "code",
   "execution_count": 4,
   "id": "48b5c982",
   "metadata": {
    "execution": {
     "iopub.execute_input": "2024-09-13T19:14:29.109579Z",
     "iopub.status.busy": "2024-09-13T19:14:29.107744Z",
     "iopub.status.idle": "2024-09-13T19:14:29.181723Z",
     "shell.execute_reply": "2024-09-13T19:14:29.179789Z"
    },
    "papermill": {
     "duration": 0.08758,
     "end_time": "2024-09-13T19:14:29.184668",
     "exception": false,
     "start_time": "2024-09-13T19:14:29.097088",
     "status": "completed"
    },
    "tags": []
   },
   "outputs": [
    {
     "data": {
      "text/html": [
       "<table class=\"dataframe\">\n",
       "<caption>A data.frame: 6 × 84</caption>\n",
       "<thead>\n",
       "\t<tr><th></th><th scope=col>ResponseId</th><th scope=col>Q120</th><th scope=col>MainBranch</th><th scope=col>Age</th><th scope=col>Employment</th><th scope=col>RemoteWork</th><th scope=col>CodingActivities</th><th scope=col>EdLevel</th><th scope=col>LearnCode</th><th scope=col>LearnCodeOnline</th><th scope=col>⋯</th><th scope=col>Frequency_1</th><th scope=col>Frequency_2</th><th scope=col>Frequency_3</th><th scope=col>TimeSearching</th><th scope=col>TimeAnswering</th><th scope=col>ProfessionalTech</th><th scope=col>Industry</th><th scope=col>SurveyLength</th><th scope=col>SurveyEase</th><th scope=col>ConvertedCompYearly</th></tr>\n",
       "\t<tr><th></th><th scope=col>&lt;int&gt;</th><th scope=col>&lt;chr&gt;</th><th scope=col>&lt;chr&gt;</th><th scope=col>&lt;chr&gt;</th><th scope=col>&lt;chr&gt;</th><th scope=col>&lt;chr&gt;</th><th scope=col>&lt;chr&gt;</th><th scope=col>&lt;chr&gt;</th><th scope=col>&lt;chr&gt;</th><th scope=col>&lt;chr&gt;</th><th scope=col>⋯</th><th scope=col>&lt;chr&gt;</th><th scope=col>&lt;chr&gt;</th><th scope=col>&lt;chr&gt;</th><th scope=col>&lt;chr&gt;</th><th scope=col>&lt;chr&gt;</th><th scope=col>&lt;chr&gt;</th><th scope=col>&lt;chr&gt;</th><th scope=col>&lt;chr&gt;</th><th scope=col>&lt;chr&gt;</th><th scope=col>&lt;int&gt;</th></tr>\n",
       "</thead>\n",
       "<tbody>\n",
       "\t<tr><th scope=row>1</th><td>1</td><td>I agree</td><td>None of these                 </td><td>18-24 years old</td><td>NA                                                                      </td><td>NA                                  </td><td>NA                                                                                                                                   </td><td>NA                                                    </td><td>NA                                                                                                                                                                                                                                        </td><td>NA                                                                                                                                                                                                                                                                                                                                             </td><td>⋯</td><td>NA               </td><td>NA               </td><td>NA              </td><td>NA                  </td><td>NA                 </td><td>NA                                                                                                                                                                                                                         </td><td>NA                                                                 </td><td>NA                   </td><td>NA                        </td><td>    NA</td></tr>\n",
       "\t<tr><th scope=row>2</th><td>2</td><td>I agree</td><td>I am a developer by profession</td><td>25-34 years old</td><td>Employed, full-time                                                     </td><td>Remote                              </td><td>Hobby;Contribute to open-source projects;Bootstrapping a business;Professional development or self-paced learning from online courses</td><td>Bachelor’s degree (B.A., B.S., B.Eng., etc.)          </td><td>Books / Physical media;Colleague;Friend or family member;Hackathons (virtual or in-person);Online Courses or Certification;On the job training;Other online resources (e.g., videos, blogs, forum);School (i.e., University, College, etc)</td><td>Formal documentation provided by the owner of the tech;Blogs with tips and tricks;Books;Recorded coding sessions;How-to videos;Video-based Online Courses;Written-based Online Courses;Auditory material (e.g., podcasts);Online challenges (e.g., daily or weekly coding challenges);Written Tutorials;Click to write Choice 20;Stack Overflow</td><td>⋯</td><td>1-2 times a week </td><td>10+ times a week </td><td>Never           </td><td>15-30 minutes a day </td><td>15-30 minutes a day</td><td>DevOps function;Microservices;Automated testing;Observability tools                                                                                                                                                        </td><td>Information Services, IT, Software Development, or other Technology</td><td>Appropriate in length</td><td>Easy                      </td><td>285000</td></tr>\n",
       "\t<tr><th scope=row>3</th><td>3</td><td>I agree</td><td>I am a developer by profession</td><td>45-54 years old</td><td>Employed, full-time                                                     </td><td>Hybrid (some remote, some in-person)</td><td>Hobby;Professional development or self-paced learning from online courses                                                            </td><td>Bachelor’s degree (B.A., B.S., B.Eng., etc.)          </td><td>Books / Physical media;Colleague;On the job training;Other online resources (e.g., videos, blogs, forum);School (i.e., University, College, etc)                                                                                          </td><td>Formal documentation provided by the owner of the tech;Blogs with tips and tricks;How-to videos;Online challenges (e.g., daily or weekly coding challenges);Written Tutorials;Click to write Choice 20;Stack Overflow                                                                                                                          </td><td>⋯</td><td>6-10 times a week</td><td>6-10 times a week</td><td>3-5 times a week</td><td>30-60 minutes a day </td><td>30-60 minutes a day</td><td>DevOps function;Microservices;Automated testing;Observability tools;Innersource initiative;Developer portal or other central places to find tools/services;Continuous integration (CI) and (more often) continuous delivery</td><td>Information Services, IT, Software Development, or other Technology</td><td>Appropriate in length</td><td>Easy                      </td><td>250000</td></tr>\n",
       "\t<tr><th scope=row>4</th><td>4</td><td>I agree</td><td>I am a developer by profession</td><td>25-34 years old</td><td>Employed, full-time                                                     </td><td>Hybrid (some remote, some in-person)</td><td>Hobby                                                                                                                                </td><td>Bachelor’s degree (B.A., B.S., B.Eng., etc.)          </td><td>Colleague;Friend or family member;Other online resources (e.g., videos, blogs, forum);School (i.e., University, College, etc)                                                                                                             </td><td>Formal documentation provided by the owner of the tech;Blogs with tips and tricks;Auditory material (e.g., podcasts);Written Tutorials;Stack Overflow;Interactive tutorial                                                                                                                                                                     </td><td>⋯</td><td>1-2 times a week </td><td>10+ times a week </td><td>1-2 times a week</td><td>15-30 minutes a day </td><td>30-60 minutes a day</td><td>Automated testing;Continuous integration (CI) and (more often) continuous delivery                                                                                                                                         </td><td>NA                                                                 </td><td>Appropriate in length</td><td>Easy                      </td><td>156000</td></tr>\n",
       "\t<tr><th scope=row>5</th><td>5</td><td>I agree</td><td>I am a developer by profession</td><td>25-34 years old</td><td>Employed, full-time;Independent contractor, freelancer, or self-employed</td><td>Remote                              </td><td>Hobby;Contribute to open-source projects;Professional development or self-paced learning from online courses                         </td><td>Bachelor’s degree (B.A., B.S., B.Eng., etc.)          </td><td>Books / Physical media;Online Courses or Certification;Other online resources (e.g., videos, blogs, forum);School (i.e., University, College, etc)                                                                                        </td><td>Formal documentation provided by the owner of the tech;Blogs with tips and tricks;Books;How-to videos;Video-based Online Courses;Online challenges (e.g., daily or weekly coding challenges);Written Tutorials;Click to write Choice 20;Interactive tutorial;Certification videos                                                              </td><td>⋯</td><td>1-2 times a week </td><td>1-2 times a week </td><td>3-5 times a week</td><td>60-120 minutes a day</td><td>30-60 minutes a day</td><td>Microservices;Automated testing;Observability tools;Continuous integration (CI) and (more often) continuous delivery                                                                                                       </td><td>Other                                                              </td><td>Appropriate in length</td><td>Neither easy nor difficult</td><td> 23456</td></tr>\n",
       "\t<tr><th scope=row>6</th><td>6</td><td>I agree</td><td>I am a developer by profession</td><td>35-44 years old</td><td>Employed, full-time                                                     </td><td>Remote                              </td><td>Hobby;Professional development or self-paced learning from online courses                                                            </td><td>Some college/university study without earning a degree</td><td>Books / Physical media;Colleague;Online Courses or Certification;Other online resources (e.g., videos, blogs, forum)                                                                                                                      </td><td>Formal documentation provided by the owner of the tech;Blogs with tips and tricks;Books;Recorded coding sessions;How-to videos;Written Tutorials;Stack Overflow;Interactive tutorial                                                                                                                                                           </td><td>⋯</td><td>1-2 times a week </td><td>1-2 times a week </td><td>3-5 times a week</td><td>30-60 minutes a day </td><td>15-30 minutes a day</td><td>DevOps function;Microservices;Observability tools;Continuous integration (CI) and (more often) continuous delivery                                                                                                         </td><td>Other                                                              </td><td>Appropriate in length</td><td>Neither easy nor difficult</td><td> 96828</td></tr>\n",
       "</tbody>\n",
       "</table>\n"
      ],
      "text/latex": [
       "A data.frame: 6 × 84\n",
       "\\begin{tabular}{r|lllllllllllllllllllll}\n",
       "  & ResponseId & Q120 & MainBranch & Age & Employment & RemoteWork & CodingActivities & EdLevel & LearnCode & LearnCodeOnline & ⋯ & Frequency\\_1 & Frequency\\_2 & Frequency\\_3 & TimeSearching & TimeAnswering & ProfessionalTech & Industry & SurveyLength & SurveyEase & ConvertedCompYearly\\\\\n",
       "  & <int> & <chr> & <chr> & <chr> & <chr> & <chr> & <chr> & <chr> & <chr> & <chr> & ⋯ & <chr> & <chr> & <chr> & <chr> & <chr> & <chr> & <chr> & <chr> & <chr> & <int>\\\\\n",
       "\\hline\n",
       "\t1 & 1 & I agree & None of these                  & 18-24 years old & NA                                                                       & NA                                   & NA                                                                                                                                    & NA                                                     & NA                                                                                                                                                                                                                                         & NA                                                                                                                                                                                                                                                                                                                                              & ⋯ & NA                & NA                & NA               & NA                   & NA                  & NA                                                                                                                                                                                                                          & NA                                                                  & NA                    & NA                         &     NA\\\\\n",
       "\t2 & 2 & I agree & I am a developer by profession & 25-34 years old & Employed, full-time                                                      & Remote                               & Hobby;Contribute to open-source projects;Bootstrapping a business;Professional development or self-paced learning from online courses & Bachelor’s degree (B.A., B.S., B.Eng., etc.)           & Books / Physical media;Colleague;Friend or family member;Hackathons (virtual or in-person);Online Courses or Certification;On the job training;Other online resources (e.g., videos, blogs, forum);School (i.e., University, College, etc) & Formal documentation provided by the owner of the tech;Blogs with tips and tricks;Books;Recorded coding sessions;How-to videos;Video-based Online Courses;Written-based Online Courses;Auditory material (e.g., podcasts);Online challenges (e.g., daily or weekly coding challenges);Written Tutorials;Click to write Choice 20;Stack Overflow & ⋯ & 1-2 times a week  & 10+ times a week  & Never            & 15-30 minutes a day  & 15-30 minutes a day & DevOps function;Microservices;Automated testing;Observability tools                                                                                                                                                         & Information Services, IT, Software Development, or other Technology & Appropriate in length & Easy                       & 285000\\\\\n",
       "\t3 & 3 & I agree & I am a developer by profession & 45-54 years old & Employed, full-time                                                      & Hybrid (some remote, some in-person) & Hobby;Professional development or self-paced learning from online courses                                                             & Bachelor’s degree (B.A., B.S., B.Eng., etc.)           & Books / Physical media;Colleague;On the job training;Other online resources (e.g., videos, blogs, forum);School (i.e., University, College, etc)                                                                                           & Formal documentation provided by the owner of the tech;Blogs with tips and tricks;How-to videos;Online challenges (e.g., daily or weekly coding challenges);Written Tutorials;Click to write Choice 20;Stack Overflow                                                                                                                           & ⋯ & 6-10 times a week & 6-10 times a week & 3-5 times a week & 30-60 minutes a day  & 30-60 minutes a day & DevOps function;Microservices;Automated testing;Observability tools;Innersource initiative;Developer portal or other central places to find tools/services;Continuous integration (CI) and (more often) continuous delivery & Information Services, IT, Software Development, or other Technology & Appropriate in length & Easy                       & 250000\\\\\n",
       "\t4 & 4 & I agree & I am a developer by profession & 25-34 years old & Employed, full-time                                                      & Hybrid (some remote, some in-person) & Hobby                                                                                                                                 & Bachelor’s degree (B.A., B.S., B.Eng., etc.)           & Colleague;Friend or family member;Other online resources (e.g., videos, blogs, forum);School (i.e., University, College, etc)                                                                                                              & Formal documentation provided by the owner of the tech;Blogs with tips and tricks;Auditory material (e.g., podcasts);Written Tutorials;Stack Overflow;Interactive tutorial                                                                                                                                                                      & ⋯ & 1-2 times a week  & 10+ times a week  & 1-2 times a week & 15-30 minutes a day  & 30-60 minutes a day & Automated testing;Continuous integration (CI) and (more often) continuous delivery                                                                                                                                          & NA                                                                  & Appropriate in length & Easy                       & 156000\\\\\n",
       "\t5 & 5 & I agree & I am a developer by profession & 25-34 years old & Employed, full-time;Independent contractor, freelancer, or self-employed & Remote                               & Hobby;Contribute to open-source projects;Professional development or self-paced learning from online courses                          & Bachelor’s degree (B.A., B.S., B.Eng., etc.)           & Books / Physical media;Online Courses or Certification;Other online resources (e.g., videos, blogs, forum);School (i.e., University, College, etc)                                                                                         & Formal documentation provided by the owner of the tech;Blogs with tips and tricks;Books;How-to videos;Video-based Online Courses;Online challenges (e.g., daily or weekly coding challenges);Written Tutorials;Click to write Choice 20;Interactive tutorial;Certification videos                                                               & ⋯ & 1-2 times a week  & 1-2 times a week  & 3-5 times a week & 60-120 minutes a day & 30-60 minutes a day & Microservices;Automated testing;Observability tools;Continuous integration (CI) and (more often) continuous delivery                                                                                                        & Other                                                               & Appropriate in length & Neither easy nor difficult &  23456\\\\\n",
       "\t6 & 6 & I agree & I am a developer by profession & 35-44 years old & Employed, full-time                                                      & Remote                               & Hobby;Professional development or self-paced learning from online courses                                                             & Some college/university study without earning a degree & Books / Physical media;Colleague;Online Courses or Certification;Other online resources (e.g., videos, blogs, forum)                                                                                                                       & Formal documentation provided by the owner of the tech;Blogs with tips and tricks;Books;Recorded coding sessions;How-to videos;Written Tutorials;Stack Overflow;Interactive tutorial                                                                                                                                                            & ⋯ & 1-2 times a week  & 1-2 times a week  & 3-5 times a week & 30-60 minutes a day  & 15-30 minutes a day & DevOps function;Microservices;Observability tools;Continuous integration (CI) and (more often) continuous delivery                                                                                                          & Other                                                               & Appropriate in length & Neither easy nor difficult &  96828\\\\\n",
       "\\end{tabular}\n"
      ],
      "text/markdown": [
       "\n",
       "A data.frame: 6 × 84\n",
       "\n",
       "| <!--/--> | ResponseId &lt;int&gt; | Q120 &lt;chr&gt; | MainBranch &lt;chr&gt; | Age &lt;chr&gt; | Employment &lt;chr&gt; | RemoteWork &lt;chr&gt; | CodingActivities &lt;chr&gt; | EdLevel &lt;chr&gt; | LearnCode &lt;chr&gt; | LearnCodeOnline &lt;chr&gt; | ⋯ ⋯ | Frequency_1 &lt;chr&gt; | Frequency_2 &lt;chr&gt; | Frequency_3 &lt;chr&gt; | TimeSearching &lt;chr&gt; | TimeAnswering &lt;chr&gt; | ProfessionalTech &lt;chr&gt; | Industry &lt;chr&gt; | SurveyLength &lt;chr&gt; | SurveyEase &lt;chr&gt; | ConvertedCompYearly &lt;int&gt; |\n",
       "|---|---|---|---|---|---|---|---|---|---|---|---|---|---|---|---|---|---|---|---|---|---|\n",
       "| 1 | 1 | I agree | None of these                  | 18-24 years old | NA                                                                       | NA                                   | NA                                                                                                                                    | NA                                                     | NA                                                                                                                                                                                                                                         | NA                                                                                                                                                                                                                                                                                                                                              | ⋯ | NA                | NA                | NA               | NA                   | NA                  | NA                                                                                                                                                                                                                          | NA                                                                  | NA                    | NA                         |     NA |\n",
       "| 2 | 2 | I agree | I am a developer by profession | 25-34 years old | Employed, full-time                                                      | Remote                               | Hobby;Contribute to open-source projects;Bootstrapping a business;Professional development or self-paced learning from online courses | Bachelor’s degree (B.A., B.S., B.Eng., etc.)           | Books / Physical media;Colleague;Friend or family member;Hackathons (virtual or in-person);Online Courses or Certification;On the job training;Other online resources (e.g., videos, blogs, forum);School (i.e., University, College, etc) | Formal documentation provided by the owner of the tech;Blogs with tips and tricks;Books;Recorded coding sessions;How-to videos;Video-based Online Courses;Written-based Online Courses;Auditory material (e.g., podcasts);Online challenges (e.g., daily or weekly coding challenges);Written Tutorials;Click to write Choice 20;Stack Overflow | ⋯ | 1-2 times a week  | 10+ times a week  | Never            | 15-30 minutes a day  | 15-30 minutes a day | DevOps function;Microservices;Automated testing;Observability tools                                                                                                                                                         | Information Services, IT, Software Development, or other Technology | Appropriate in length | Easy                       | 285000 |\n",
       "| 3 | 3 | I agree | I am a developer by profession | 45-54 years old | Employed, full-time                                                      | Hybrid (some remote, some in-person) | Hobby;Professional development or self-paced learning from online courses                                                             | Bachelor’s degree (B.A., B.S., B.Eng., etc.)           | Books / Physical media;Colleague;On the job training;Other online resources (e.g., videos, blogs, forum);School (i.e., University, College, etc)                                                                                           | Formal documentation provided by the owner of the tech;Blogs with tips and tricks;How-to videos;Online challenges (e.g., daily or weekly coding challenges);Written Tutorials;Click to write Choice 20;Stack Overflow                                                                                                                           | ⋯ | 6-10 times a week | 6-10 times a week | 3-5 times a week | 30-60 minutes a day  | 30-60 minutes a day | DevOps function;Microservices;Automated testing;Observability tools;Innersource initiative;Developer portal or other central places to find tools/services;Continuous integration (CI) and (more often) continuous delivery | Information Services, IT, Software Development, or other Technology | Appropriate in length | Easy                       | 250000 |\n",
       "| 4 | 4 | I agree | I am a developer by profession | 25-34 years old | Employed, full-time                                                      | Hybrid (some remote, some in-person) | Hobby                                                                                                                                 | Bachelor’s degree (B.A., B.S., B.Eng., etc.)           | Colleague;Friend or family member;Other online resources (e.g., videos, blogs, forum);School (i.e., University, College, etc)                                                                                                              | Formal documentation provided by the owner of the tech;Blogs with tips and tricks;Auditory material (e.g., podcasts);Written Tutorials;Stack Overflow;Interactive tutorial                                                                                                                                                                      | ⋯ | 1-2 times a week  | 10+ times a week  | 1-2 times a week | 15-30 minutes a day  | 30-60 minutes a day | Automated testing;Continuous integration (CI) and (more often) continuous delivery                                                                                                                                          | NA                                                                  | Appropriate in length | Easy                       | 156000 |\n",
       "| 5 | 5 | I agree | I am a developer by profession | 25-34 years old | Employed, full-time;Independent contractor, freelancer, or self-employed | Remote                               | Hobby;Contribute to open-source projects;Professional development or self-paced learning from online courses                          | Bachelor’s degree (B.A., B.S., B.Eng., etc.)           | Books / Physical media;Online Courses or Certification;Other online resources (e.g., videos, blogs, forum);School (i.e., University, College, etc)                                                                                         | Formal documentation provided by the owner of the tech;Blogs with tips and tricks;Books;How-to videos;Video-based Online Courses;Online challenges (e.g., daily or weekly coding challenges);Written Tutorials;Click to write Choice 20;Interactive tutorial;Certification videos                                                               | ⋯ | 1-2 times a week  | 1-2 times a week  | 3-5 times a week | 60-120 minutes a day | 30-60 minutes a day | Microservices;Automated testing;Observability tools;Continuous integration (CI) and (more often) continuous delivery                                                                                                        | Other                                                               | Appropriate in length | Neither easy nor difficult |  23456 |\n",
       "| 6 | 6 | I agree | I am a developer by profession | 35-44 years old | Employed, full-time                                                      | Remote                               | Hobby;Professional development or self-paced learning from online courses                                                             | Some college/university study without earning a degree | Books / Physical media;Colleague;Online Courses or Certification;Other online resources (e.g., videos, blogs, forum)                                                                                                                       | Formal documentation provided by the owner of the tech;Blogs with tips and tricks;Books;Recorded coding sessions;How-to videos;Written Tutorials;Stack Overflow;Interactive tutorial                                                                                                                                                            | ⋯ | 1-2 times a week  | 1-2 times a week  | 3-5 times a week | 30-60 minutes a day  | 15-30 minutes a day | DevOps function;Microservices;Observability tools;Continuous integration (CI) and (more often) continuous delivery                                                                                                          | Other                                                               | Appropriate in length | Neither easy nor difficult |  96828 |\n",
       "\n"
      ],
      "text/plain": [
       "  ResponseId Q120    MainBranch                     Age            \n",
       "1 1          I agree None of these                  18-24 years old\n",
       "2 2          I agree I am a developer by profession 25-34 years old\n",
       "3 3          I agree I am a developer by profession 45-54 years old\n",
       "4 4          I agree I am a developer by profession 25-34 years old\n",
       "5 5          I agree I am a developer by profession 25-34 years old\n",
       "6 6          I agree I am a developer by profession 35-44 years old\n",
       "  Employment                                                              \n",
       "1 NA                                                                      \n",
       "2 Employed, full-time                                                     \n",
       "3 Employed, full-time                                                     \n",
       "4 Employed, full-time                                                     \n",
       "5 Employed, full-time;Independent contractor, freelancer, or self-employed\n",
       "6 Employed, full-time                                                     \n",
       "  RemoteWork                          \n",
       "1 NA                                  \n",
       "2 Remote                              \n",
       "3 Hybrid (some remote, some in-person)\n",
       "4 Hybrid (some remote, some in-person)\n",
       "5 Remote                              \n",
       "6 Remote                              \n",
       "  CodingActivities                                                                                                                     \n",
       "1 NA                                                                                                                                   \n",
       "2 Hobby;Contribute to open-source projects;Bootstrapping a business;Professional development or self-paced learning from online courses\n",
       "3 Hobby;Professional development or self-paced learning from online courses                                                            \n",
       "4 Hobby                                                                                                                                \n",
       "5 Hobby;Contribute to open-source projects;Professional development or self-paced learning from online courses                         \n",
       "6 Hobby;Professional development or self-paced learning from online courses                                                            \n",
       "  EdLevel                                               \n",
       "1 NA                                                    \n",
       "2 Bachelor’s degree (B.A., B.S., B.Eng., etc.)          \n",
       "3 Bachelor’s degree (B.A., B.S., B.Eng., etc.)          \n",
       "4 Bachelor’s degree (B.A., B.S., B.Eng., etc.)          \n",
       "5 Bachelor’s degree (B.A., B.S., B.Eng., etc.)          \n",
       "6 Some college/university study without earning a degree\n",
       "  LearnCode                                                                                                                                                                                                                                 \n",
       "1 NA                                                                                                                                                                                                                                        \n",
       "2 Books / Physical media;Colleague;Friend or family member;Hackathons (virtual or in-person);Online Courses or Certification;On the job training;Other online resources (e.g., videos, blogs, forum);School (i.e., University, College, etc)\n",
       "3 Books / Physical media;Colleague;On the job training;Other online resources (e.g., videos, blogs, forum);School (i.e., University, College, etc)                                                                                          \n",
       "4 Colleague;Friend or family member;Other online resources (e.g., videos, blogs, forum);School (i.e., University, College, etc)                                                                                                             \n",
       "5 Books / Physical media;Online Courses or Certification;Other online resources (e.g., videos, blogs, forum);School (i.e., University, College, etc)                                                                                        \n",
       "6 Books / Physical media;Colleague;Online Courses or Certification;Other online resources (e.g., videos, blogs, forum)                                                                                                                      \n",
       "  LearnCodeOnline                                                                                                                                                                                                                                                                                                                                \n",
       "1 NA                                                                                                                                                                                                                                                                                                                                             \n",
       "2 Formal documentation provided by the owner of the tech;Blogs with tips and tricks;Books;Recorded coding sessions;How-to videos;Video-based Online Courses;Written-based Online Courses;Auditory material (e.g., podcasts);Online challenges (e.g., daily or weekly coding challenges);Written Tutorials;Click to write Choice 20;Stack Overflow\n",
       "3 Formal documentation provided by the owner of the tech;Blogs with tips and tricks;How-to videos;Online challenges (e.g., daily or weekly coding challenges);Written Tutorials;Click to write Choice 20;Stack Overflow                                                                                                                          \n",
       "4 Formal documentation provided by the owner of the tech;Blogs with tips and tricks;Auditory material (e.g., podcasts);Written Tutorials;Stack Overflow;Interactive tutorial                                                                                                                                                                     \n",
       "5 Formal documentation provided by the owner of the tech;Blogs with tips and tricks;Books;How-to videos;Video-based Online Courses;Online challenges (e.g., daily or weekly coding challenges);Written Tutorials;Click to write Choice 20;Interactive tutorial;Certification videos                                                              \n",
       "6 Formal documentation provided by the owner of the tech;Blogs with tips and tricks;Books;Recorded coding sessions;How-to videos;Written Tutorials;Stack Overflow;Interactive tutorial                                                                                                                                                           \n",
       "  ⋯ Frequency_1       Frequency_2       Frequency_3      TimeSearching       \n",
       "1 ⋯ NA                NA                NA               NA                  \n",
       "2 ⋯ 1-2 times a week  10+ times a week  Never            15-30 minutes a day \n",
       "3 ⋯ 6-10 times a week 6-10 times a week 3-5 times a week 30-60 minutes a day \n",
       "4 ⋯ 1-2 times a week  10+ times a week  1-2 times a week 15-30 minutes a day \n",
       "5 ⋯ 1-2 times a week  1-2 times a week  3-5 times a week 60-120 minutes a day\n",
       "6 ⋯ 1-2 times a week  1-2 times a week  3-5 times a week 30-60 minutes a day \n",
       "  TimeAnswering      \n",
       "1 NA                 \n",
       "2 15-30 minutes a day\n",
       "3 30-60 minutes a day\n",
       "4 30-60 minutes a day\n",
       "5 30-60 minutes a day\n",
       "6 15-30 minutes a day\n",
       "  ProfessionalTech                                                                                                                                                                                                           \n",
       "1 NA                                                                                                                                                                                                                         \n",
       "2 DevOps function;Microservices;Automated testing;Observability tools                                                                                                                                                        \n",
       "3 DevOps function;Microservices;Automated testing;Observability tools;Innersource initiative;Developer portal or other central places to find tools/services;Continuous integration (CI) and (more often) continuous delivery\n",
       "4 Automated testing;Continuous integration (CI) and (more often) continuous delivery                                                                                                                                         \n",
       "5 Microservices;Automated testing;Observability tools;Continuous integration (CI) and (more often) continuous delivery                                                                                                       \n",
       "6 DevOps function;Microservices;Observability tools;Continuous integration (CI) and (more often) continuous delivery                                                                                                         \n",
       "  Industry                                                           \n",
       "1 NA                                                                 \n",
       "2 Information Services, IT, Software Development, or other Technology\n",
       "3 Information Services, IT, Software Development, or other Technology\n",
       "4 NA                                                                 \n",
       "5 Other                                                              \n",
       "6 Other                                                              \n",
       "  SurveyLength          SurveyEase                 ConvertedCompYearly\n",
       "1 NA                    NA                             NA             \n",
       "2 Appropriate in length Easy                       285000             \n",
       "3 Appropriate in length Easy                       250000             \n",
       "4 Appropriate in length Easy                       156000             \n",
       "5 Appropriate in length Neither easy nor difficult  23456             \n",
       "6 Appropriate in length Neither easy nor difficult  96828             "
      ]
     },
     "metadata": {},
     "output_type": "display_data"
    }
   ],
   "source": [
    "head(survey_results)"
   ]
  },
  {
   "cell_type": "markdown",
   "id": "437f3a78",
   "metadata": {
    "papermill": {
     "duration": 0.008418,
     "end_time": "2024-09-13T19:14:29.202971",
     "exception": false,
     "start_time": "2024-09-13T19:14:29.194553",
     "status": "completed"
    },
    "tags": []
   },
   "source": [
    "## Creating Dataframes\n",
    "\n",
    "### To carry out the analysis, we would create five dataframes that contain relevant columns for all five questions in our analysis"
   ]
  },
  {
   "cell_type": "code",
   "execution_count": 5,
   "id": "4e5da3a8",
   "metadata": {
    "execution": {
     "iopub.execute_input": "2024-09-13T19:14:29.223872Z",
     "iopub.status.busy": "2024-09-13T19:14:29.222129Z",
     "iopub.status.idle": "2024-09-13T19:14:29.263026Z",
     "shell.execute_reply": "2024-09-13T19:14:29.261014Z"
    },
    "papermill": {
     "duration": 0.054824,
     "end_time": "2024-09-13T19:14:29.266201",
     "exception": false,
     "start_time": "2024-09-13T19:14:29.211377",
     "status": "completed"
    },
    "tags": []
   },
   "outputs": [],
   "source": [
    "first_question <- select(survey_results, MainBranch, Employment, DevType, CompTotal, Industry)\n",
    "second_question <- select(survey_results, RemoteWork, Employment, Age, OrgSize, Country, CodingActivities)\n",
    "third_question <- select(survey_results, CompTotal, YearsCode, YearsCodePro)\n",
    "forth_question <- select(survey_results, LearnCode)\n",
    "fifth_question <- select(survey_results, Employment, MainBranch, EdLevel)"
   ]
  },
  {
   "cell_type": "markdown",
   "id": "c75f52c5",
   "metadata": {
    "papermill": {
     "duration": 0.008602,
     "end_time": "2024-09-13T19:14:29.283894",
     "exception": false,
     "start_time": "2024-09-13T19:14:29.275292",
     "status": "completed"
    },
    "tags": []
   },
   "source": [
    "## First Question\n",
    "\n",
    "### What industries do developers get paid the most?"
   ]
  },
  {
   "cell_type": "code",
   "execution_count": 6,
   "id": "a37fb22c",
   "metadata": {
    "execution": {
     "iopub.execute_input": "2024-09-13T19:14:29.305702Z",
     "iopub.status.busy": "2024-09-13T19:14:29.303894Z",
     "iopub.status.idle": "2024-09-13T19:14:29.336194Z",
     "shell.execute_reply": "2024-09-13T19:14:29.333653Z"
    },
    "papermill": {
     "duration": 0.046794,
     "end_time": "2024-09-13T19:14:29.339818",
     "exception": false,
     "start_time": "2024-09-13T19:14:29.293024",
     "status": "completed"
    },
    "tags": []
   },
   "outputs": [
    {
     "name": "stdout",
     "output_type": "stream",
     "text": [
      "Rows: 89,184\n",
      "Columns: 5\n",
      "$ MainBranch \u001b[3m\u001b[90m<chr>\u001b[39m\u001b[23m \"None of these\", \"I am a developer by profession\", \"I am a …\n",
      "$ Employment \u001b[3m\u001b[90m<chr>\u001b[39m\u001b[23m NA, \"Employed, full-time\", \"Employed, full-time\", \"Employed…\n",
      "$ DevType    \u001b[3m\u001b[90m<chr>\u001b[39m\u001b[23m NA, \"Senior Executive (C-Suite, VP, etc.)\", \"Developer, bac…\n",
      "$ CompTotal  \u001b[3m\u001b[90m<dbl>\u001b[39m\u001b[23m NA, 285000, 250000, 156000, 1320000, 78000, 135000, 80000, …\n",
      "$ Industry   \u001b[3m\u001b[90m<chr>\u001b[39m\u001b[23m NA, \"Information Services, IT, Software Development, or oth…\n"
     ]
    }
   ],
   "source": [
    "glimpse(first_question)"
   ]
  },
  {
   "cell_type": "code",
   "execution_count": 7,
   "id": "5e8cf1ab",
   "metadata": {
    "execution": {
     "iopub.execute_input": "2024-09-13T19:14:29.362100Z",
     "iopub.status.busy": "2024-09-13T19:14:29.360044Z",
     "iopub.status.idle": "2024-09-13T19:14:29.394546Z",
     "shell.execute_reply": "2024-09-13T19:14:29.392317Z"
    },
    "papermill": {
     "duration": 0.048694,
     "end_time": "2024-09-13T19:14:29.397542",
     "exception": false,
     "start_time": "2024-09-13T19:14:29.348848",
     "status": "completed"
    },
    "tags": []
   },
   "outputs": [],
   "source": [
    "# First, specify data for only professionals as developers\n",
    "\n",
    "developer_professionals <- first_question %>% filter(MainBranch == \"I am a developer by profession\")"
   ]
  },
  {
   "cell_type": "code",
   "execution_count": 8,
   "id": "7f335c88",
   "metadata": {
    "execution": {
     "iopub.execute_input": "2024-09-13T19:14:29.419580Z",
     "iopub.status.busy": "2024-09-13T19:14:29.417172Z",
     "iopub.status.idle": "2024-09-13T19:14:29.568798Z",
     "shell.execute_reply": "2024-09-13T19:14:29.566905Z"
    },
    "papermill": {
     "duration": 0.165342,
     "end_time": "2024-09-13T19:14:29.571470",
     "exception": false,
     "start_time": "2024-09-13T19:14:29.406128",
     "status": "completed"
    },
    "tags": []
   },
   "outputs": [
    {
     "data": {
      "text/html": [
       "<table class=\"dataframe\">\n",
       "<caption>A tibble: 144 × 2</caption>\n",
       "<thead>\n",
       "\t<tr><th scope=col>Currency</th><th scope=col>count</th></tr>\n",
       "\t<tr><th scope=col>&lt;chr&gt;</th><th scope=col>&lt;int&gt;</th></tr>\n",
       "</thead>\n",
       "<tbody>\n",
       "\t<tr><td>EUR European Euro         </td><td>17651</td></tr>\n",
       "\t<tr><td>USD\tUnited States dollar </td><td>16729</td></tr>\n",
       "\t<tr><td>GBP\tPound sterling       </td><td> 4473</td></tr>\n",
       "\t<tr><td>INR\tIndian rupee         </td><td> 3615</td></tr>\n",
       "\t<tr><td>CAD\tCanadian dollar      </td><td> 2647</td></tr>\n",
       "\t<tr><td>PLN\tPolish zloty         </td><td> 1606</td></tr>\n",
       "\t<tr><td>AUD\tAustralian dollar    </td><td> 1594</td></tr>\n",
       "\t<tr><td>BRL\tBrazilian real       </td><td> 1475</td></tr>\n",
       "\t<tr><td>SEK\tSwedish krona        </td><td> 1324</td></tr>\n",
       "\t<tr><td>CHF\tSwiss franc          </td><td>  889</td></tr>\n",
       "\t<tr><td>ILS\tIsraeli new shekel   </td><td>  695</td></tr>\n",
       "\t<tr><td>DKK\tDanish krone         </td><td>  677</td></tr>\n",
       "\t<tr><td>RUB\tRussian ruble        </td><td>  674</td></tr>\n",
       "\t<tr><td>CZK\tCzech koruna         </td><td>  672</td></tr>\n",
       "\t<tr><td>NOK\tNorwegian krone      </td><td>  580</td></tr>\n",
       "\t<tr><td>NZD\tNew Zealand dollar   </td><td>  531</td></tr>\n",
       "\t<tr><td>TRY\tTurkish lira         </td><td>  525</td></tr>\n",
       "\t<tr><td>RON\tRomanian leu         </td><td>  468</td></tr>\n",
       "\t<tr><td>ZAR\tSouth African rand   </td><td>  436</td></tr>\n",
       "\t<tr><td>UAH\tUkrainian hryvnia    </td><td>  408</td></tr>\n",
       "\t<tr><td>HUF\tHungarian forint     </td><td>  393</td></tr>\n",
       "\t<tr><td>CNY\tChinese Yuan Renminbi</td><td>  388</td></tr>\n",
       "\t<tr><td>MXN\tMexican peso         </td><td>  383</td></tr>\n",
       "\t<tr><td>PKR\tPakistani rupee      </td><td>  360</td></tr>\n",
       "\t<tr><td>IRR\tIranian rial         </td><td>  344</td></tr>\n",
       "\t<tr><td>BGN\tBulgarian lev        </td><td>  339</td></tr>\n",
       "\t<tr><td>BDT\tBangladeshi taka     </td><td>  279</td></tr>\n",
       "\t<tr><td>JPY\tJapanese yen         </td><td>  279</td></tr>\n",
       "\t<tr><td>COP\tColombian peso       </td><td>  273</td></tr>\n",
       "\t<tr><td>IDR\tIndonesian rupiah    </td><td>  272</td></tr>\n",
       "\t<tr><td>⋮</td><td>⋮</td></tr>\n",
       "\t<tr><td>NAD\tNamibian dollar       </td><td>3</td></tr>\n",
       "\t<tr><td>SLL\tSierra Leonean leone  </td><td>3</td></tr>\n",
       "\t<tr><td>SRD\tSurinamese dollar     </td><td>3</td></tr>\n",
       "\t<tr><td>SZL\tSwazi lilangeni       </td><td>3</td></tr>\n",
       "\t<tr><td>TJS\tTajikistani somoni    </td><td>3</td></tr>\n",
       "\t<tr><td>XPF\tCFP franc             </td><td>3</td></tr>\n",
       "\t<tr><td>BBD\tBarbadian dollar      </td><td>2</td></tr>\n",
       "\t<tr><td>BMD\tBermudian dollar      </td><td>2</td></tr>\n",
       "\t<tr><td>BWP\tBotswana pula         </td><td>2</td></tr>\n",
       "\t<tr><td>CDF\tCongolese franc       </td><td>2</td></tr>\n",
       "\t<tr><td>ERN\tEritrean nakfa        </td><td>2</td></tr>\n",
       "\t<tr><td>FKP\tFalkland Islands pound</td><td>2</td></tr>\n",
       "\t<tr><td>GIP\tGibraltar pound       </td><td>2</td></tr>\n",
       "\t<tr><td>GYD\tGuyanese dollar       </td><td>2</td></tr>\n",
       "\t<tr><td>HRK\tCroatian kuna         </td><td>2</td></tr>\n",
       "\t<tr><td>LSL\tLesotho loti          </td><td>2</td></tr>\n",
       "\t<tr><td>SOS\tSomali shilling       </td><td>2</td></tr>\n",
       "\t<tr><td>TMT\tTurkmen manat         </td><td>2</td></tr>\n",
       "\t<tr><td>TOP\tTongan pa’anga        </td><td>2</td></tr>\n",
       "\t<tr><td>XCD\tEast Caribbean dollar </td><td>2</td></tr>\n",
       "\t<tr><td>none\tFaroese krona        </td><td>2</td></tr>\n",
       "\t<tr><td>CVE\tCape Verdean escudo   </td><td>1</td></tr>\n",
       "\t<tr><td>DJF\tDjiboutian franc      </td><td>1</td></tr>\n",
       "\t<tr><td>JEP\tJersey pound          </td><td>1</td></tr>\n",
       "\t<tr><td>KMF\tComorian franc        </td><td>1</td></tr>\n",
       "\t<tr><td>KYD\tCayman Islands dollar </td><td>1</td></tr>\n",
       "\t<tr><td>LRD\tLiberian dollar       </td><td>1</td></tr>\n",
       "\t<tr><td>MOP\tMacanese pataca       </td><td>1</td></tr>\n",
       "\t<tr><td>SDG\tSudanese pound        </td><td>1</td></tr>\n",
       "\t<tr><td>SSP\tSouth Sudanese pound  </td><td>1</td></tr>\n",
       "</tbody>\n",
       "</table>\n"
      ],
      "text/latex": [
       "A tibble: 144 × 2\n",
       "\\begin{tabular}{ll}\n",
       " Currency & count\\\\\n",
       " <chr> & <int>\\\\\n",
       "\\hline\n",
       "\t EUR European Euro          & 17651\\\\\n",
       "\t USD\tUnited States dollar  & 16729\\\\\n",
       "\t GBP\tPound sterling        &  4473\\\\\n",
       "\t INR\tIndian rupee          &  3615\\\\\n",
       "\t CAD\tCanadian dollar       &  2647\\\\\n",
       "\t PLN\tPolish zloty          &  1606\\\\\n",
       "\t AUD\tAustralian dollar     &  1594\\\\\n",
       "\t BRL\tBrazilian real        &  1475\\\\\n",
       "\t SEK\tSwedish krona         &  1324\\\\\n",
       "\t CHF\tSwiss franc           &   889\\\\\n",
       "\t ILS\tIsraeli new shekel    &   695\\\\\n",
       "\t DKK\tDanish krone          &   677\\\\\n",
       "\t RUB\tRussian ruble         &   674\\\\\n",
       "\t CZK\tCzech koruna          &   672\\\\\n",
       "\t NOK\tNorwegian krone       &   580\\\\\n",
       "\t NZD\tNew Zealand dollar    &   531\\\\\n",
       "\t TRY\tTurkish lira          &   525\\\\\n",
       "\t RON\tRomanian leu          &   468\\\\\n",
       "\t ZAR\tSouth African rand    &   436\\\\\n",
       "\t UAH\tUkrainian hryvnia     &   408\\\\\n",
       "\t HUF\tHungarian forint      &   393\\\\\n",
       "\t CNY\tChinese Yuan Renminbi &   388\\\\\n",
       "\t MXN\tMexican peso          &   383\\\\\n",
       "\t PKR\tPakistani rupee       &   360\\\\\n",
       "\t IRR\tIranian rial          &   344\\\\\n",
       "\t BGN\tBulgarian lev         &   339\\\\\n",
       "\t BDT\tBangladeshi taka      &   279\\\\\n",
       "\t JPY\tJapanese yen          &   279\\\\\n",
       "\t COP\tColombian peso        &   273\\\\\n",
       "\t IDR\tIndonesian rupiah     &   272\\\\\n",
       "\t ⋮ & ⋮\\\\\n",
       "\t NAD\tNamibian dollar        & 3\\\\\n",
       "\t SLL\tSierra Leonean leone   & 3\\\\\n",
       "\t SRD\tSurinamese dollar      & 3\\\\\n",
       "\t SZL\tSwazi lilangeni        & 3\\\\\n",
       "\t TJS\tTajikistani somoni     & 3\\\\\n",
       "\t XPF\tCFP franc              & 3\\\\\n",
       "\t BBD\tBarbadian dollar       & 2\\\\\n",
       "\t BMD\tBermudian dollar       & 2\\\\\n",
       "\t BWP\tBotswana pula          & 2\\\\\n",
       "\t CDF\tCongolese franc        & 2\\\\\n",
       "\t ERN\tEritrean nakfa         & 2\\\\\n",
       "\t FKP\tFalkland Islands pound & 2\\\\\n",
       "\t GIP\tGibraltar pound        & 2\\\\\n",
       "\t GYD\tGuyanese dollar        & 2\\\\\n",
       "\t HRK\tCroatian kuna          & 2\\\\\n",
       "\t LSL\tLesotho loti           & 2\\\\\n",
       "\t SOS\tSomali shilling        & 2\\\\\n",
       "\t TMT\tTurkmen manat          & 2\\\\\n",
       "\t TOP\tTongan pa’anga         & 2\\\\\n",
       "\t XCD\tEast Caribbean dollar  & 2\\\\\n",
       "\t none\tFaroese krona         & 2\\\\\n",
       "\t CVE\tCape Verdean escudo    & 1\\\\\n",
       "\t DJF\tDjiboutian franc       & 1\\\\\n",
       "\t JEP\tJersey pound           & 1\\\\\n",
       "\t KMF\tComorian franc         & 1\\\\\n",
       "\t KYD\tCayman Islands dollar  & 1\\\\\n",
       "\t LRD\tLiberian dollar        & 1\\\\\n",
       "\t MOP\tMacanese pataca        & 1\\\\\n",
       "\t SDG\tSudanese pound         & 1\\\\\n",
       "\t SSP\tSouth Sudanese pound   & 1\\\\\n",
       "\\end{tabular}\n"
      ],
      "text/markdown": [
       "\n",
       "A tibble: 144 × 2\n",
       "\n",
       "| Currency &lt;chr&gt; | count &lt;int&gt; |\n",
       "|---|---|\n",
       "| EUR European Euro          | 17651 |\n",
       "| USD\tUnited States dollar  | 16729 |\n",
       "| GBP\tPound sterling        |  4473 |\n",
       "| INR\tIndian rupee          |  3615 |\n",
       "| CAD\tCanadian dollar       |  2647 |\n",
       "| PLN\tPolish zloty          |  1606 |\n",
       "| AUD\tAustralian dollar     |  1594 |\n",
       "| BRL\tBrazilian real        |  1475 |\n",
       "| SEK\tSwedish krona         |  1324 |\n",
       "| CHF\tSwiss franc           |   889 |\n",
       "| ILS\tIsraeli new shekel    |   695 |\n",
       "| DKK\tDanish krone          |   677 |\n",
       "| RUB\tRussian ruble         |   674 |\n",
       "| CZK\tCzech koruna          |   672 |\n",
       "| NOK\tNorwegian krone       |   580 |\n",
       "| NZD\tNew Zealand dollar    |   531 |\n",
       "| TRY\tTurkish lira          |   525 |\n",
       "| RON\tRomanian leu          |   468 |\n",
       "| ZAR\tSouth African rand    |   436 |\n",
       "| UAH\tUkrainian hryvnia     |   408 |\n",
       "| HUF\tHungarian forint      |   393 |\n",
       "| CNY\tChinese Yuan Renminbi |   388 |\n",
       "| MXN\tMexican peso          |   383 |\n",
       "| PKR\tPakistani rupee       |   360 |\n",
       "| IRR\tIranian rial          |   344 |\n",
       "| BGN\tBulgarian lev         |   339 |\n",
       "| BDT\tBangladeshi taka      |   279 |\n",
       "| JPY\tJapanese yen          |   279 |\n",
       "| COP\tColombian peso        |   273 |\n",
       "| IDR\tIndonesian rupiah     |   272 |\n",
       "| ⋮ | ⋮ |\n",
       "| NAD\tNamibian dollar        | 3 |\n",
       "| SLL\tSierra Leonean leone   | 3 |\n",
       "| SRD\tSurinamese dollar      | 3 |\n",
       "| SZL\tSwazi lilangeni        | 3 |\n",
       "| TJS\tTajikistani somoni     | 3 |\n",
       "| XPF\tCFP franc              | 3 |\n",
       "| BBD\tBarbadian dollar       | 2 |\n",
       "| BMD\tBermudian dollar       | 2 |\n",
       "| BWP\tBotswana pula          | 2 |\n",
       "| CDF\tCongolese franc        | 2 |\n",
       "| ERN\tEritrean nakfa         | 2 |\n",
       "| FKP\tFalkland Islands pound | 2 |\n",
       "| GIP\tGibraltar pound        | 2 |\n",
       "| GYD\tGuyanese dollar        | 2 |\n",
       "| HRK\tCroatian kuna          | 2 |\n",
       "| LSL\tLesotho loti           | 2 |\n",
       "| SOS\tSomali shilling        | 2 |\n",
       "| TMT\tTurkmen manat          | 2 |\n",
       "| TOP\tTongan pa’anga         | 2 |\n",
       "| XCD\tEast Caribbean dollar  | 2 |\n",
       "| none\tFaroese krona         | 2 |\n",
       "| CVE\tCape Verdean escudo    | 1 |\n",
       "| DJF\tDjiboutian franc       | 1 |\n",
       "| JEP\tJersey pound           | 1 |\n",
       "| KMF\tComorian franc         | 1 |\n",
       "| KYD\tCayman Islands dollar  | 1 |\n",
       "| LRD\tLiberian dollar        | 1 |\n",
       "| MOP\tMacanese pataca        | 1 |\n",
       "| SDG\tSudanese pound         | 1 |\n",
       "| SSP\tSouth Sudanese pound   | 1 |\n",
       "\n"
      ],
      "text/plain": [
       "    Currency                    count\n",
       "1   EUR European Euro           17651\n",
       "2   USD\\tUnited States dollar   16729\n",
       "3   GBP\\tPound sterling          4473\n",
       "4   INR\\tIndian rupee            3615\n",
       "5   CAD\\tCanadian dollar         2647\n",
       "6   PLN\\tPolish zloty            1606\n",
       "7   AUD\\tAustralian dollar       1594\n",
       "8   BRL\\tBrazilian real          1475\n",
       "9   SEK\\tSwedish krona           1324\n",
       "10  CHF\\tSwiss franc              889\n",
       "11  ILS\\tIsraeli new shekel       695\n",
       "12  DKK\\tDanish krone             677\n",
       "13  RUB\\tRussian ruble            674\n",
       "14  CZK\\tCzech koruna             672\n",
       "15  NOK\\tNorwegian krone          580\n",
       "16  NZD\\tNew Zealand dollar       531\n",
       "17  TRY\\tTurkish lira             525\n",
       "18  RON\\tRomanian leu             468\n",
       "19  ZAR\\tSouth African rand       436\n",
       "20  UAH\\tUkrainian hryvnia        408\n",
       "21  HUF\\tHungarian forint         393\n",
       "22  CNY\\tChinese Yuan Renminbi    388\n",
       "23  MXN\\tMexican peso             383\n",
       "24  PKR\\tPakistani rupee          360\n",
       "25  IRR\\tIranian rial             344\n",
       "26  BGN\\tBulgarian lev            339\n",
       "27  BDT\\tBangladeshi taka         279\n",
       "28  JPY\\tJapanese yen             279\n",
       "29  COP\\tColombian peso           273\n",
       "30  IDR\\tIndonesian rupiah        272\n",
       "⋮   ⋮                           ⋮    \n",
       "115 NAD\\tNamibian dollar        3    \n",
       "116 SLL\\tSierra Leonean leone   3    \n",
       "117 SRD\\tSurinamese dollar      3    \n",
       "118 SZL\\tSwazi lilangeni        3    \n",
       "119 TJS\\tTajikistani somoni     3    \n",
       "120 XPF\\tCFP franc              3    \n",
       "121 BBD\\tBarbadian dollar       2    \n",
       "122 BMD\\tBermudian dollar       2    \n",
       "123 BWP\\tBotswana pula          2    \n",
       "124 CDF\\tCongolese franc        2    \n",
       "125 ERN\\tEritrean nakfa         2    \n",
       "126 FKP\\tFalkland Islands pound 2    \n",
       "127 GIP\\tGibraltar pound        2    \n",
       "128 GYD\\tGuyanese dollar        2    \n",
       "129 HRK\\tCroatian kuna          2    \n",
       "130 LSL\\tLesotho loti           2    \n",
       "131 SOS\\tSomali shilling        2    \n",
       "132 TMT\\tTurkmen manat          2    \n",
       "133 TOP\\tTongan pa’anga         2    \n",
       "134 XCD\\tEast Caribbean dollar  2    \n",
       "135 none\\tFaroese krona         2    \n",
       "136 CVE\\tCape Verdean escudo    1    \n",
       "137 DJF\\tDjiboutian franc       1    \n",
       "138 JEP\\tJersey pound           1    \n",
       "139 KMF\\tComorian franc         1    \n",
       "140 KYD\\tCayman Islands dollar  1    \n",
       "141 LRD\\tLiberian dollar        1    \n",
       "142 MOP\\tMacanese pataca        1    \n",
       "143 SDG\\tSudanese pound         1    \n",
       "144 SSP\\tSouth Sudanese pound   1    "
      ]
     },
     "metadata": {},
     "output_type": "display_data"
    }
   ],
   "source": [
    "#From the data, CompTotal covers several currencies. To get an accurate compensation average for each industry, we have to make the currency consistent\n",
    "\n",
    "#For this question, we can convert only currencies used atleast 100 times. Let's see the most used currencies from highest to lowest\n",
    "\n",
    "currencyy_count <- survey_results %>% group_by(Currency) %>% summarise(count = n()) %>% arrange(desc(count))\n",
    "currencyy_count <- na.omit(currencyy_count)\n",
    "View(currencyy_count)"
   ]
  },
  {
   "cell_type": "code",
   "execution_count": 9,
   "id": "73046b9e",
   "metadata": {
    "execution": {
     "iopub.execute_input": "2024-09-13T19:14:29.594520Z",
     "iopub.status.busy": "2024-09-13T19:14:29.592814Z",
     "iopub.status.idle": "2024-09-13T19:14:29.608982Z",
     "shell.execute_reply": "2024-09-13T19:14:29.607157Z"
    },
    "papermill": {
     "duration": 0.030828,
     "end_time": "2024-09-13T19:14:29.611769",
     "exception": false,
     "start_time": "2024-09-13T19:14:29.580941",
     "status": "completed"
    },
    "tags": []
   },
   "outputs": [],
   "source": [
    "#Create a list of USD exchange_rates for the top currencies\n",
    "\n",
    "exchange_rates <- c(\n",
    "  \"EUR\" = 1.1,  # Euro to USD\n",
    "  \"GBP\" = 1.3,  # British Pound to USD\n",
    "  \"INR\" = 0.012,  # Indian Rupee to USD\n",
    "  \"USD\" = 1,  # USD stays the same\n",
    "  \"JPY\" = 0.007, # Japanese Yen to USD\n",
    "  \"CAD\" = 0.75,\n",
    "  \"PLN\" = 0.26,\n",
    "  \"AUD\" = 0.67,\n",
    "  \"BRL\" = 0.18,\n",
    "  \"SEK\" = 0.097,\n",
    "  \"CHF\" = 1.19,\n",
    "  \"ILS\" = 0.27,\n",
    "  \"DKK\" = 0.15,\n",
    "  \"RUB\" = 0.011,\n",
    "  \"CZK\" = 0.044,\n",
    "  \"NOK\" = 0.093,\n",
    "  \"NZD\" = 0.62,\n",
    "  \"TRY\" = 0.03,\n",
    "  \"RON\" = 0.22,\n",
    "  \"ZAR\" = 0.056,\n",
    "  \"UAH\" = 0.024,\n",
    "  \"HUF\" = 0.0028,\n",
    "  \"CNY\" = 0.14,\n",
    "  \"MXN\" = 0.05,\n",
    "  \"PKR\" = 0.0036,\n",
    "  \"IRR\" = 0.000024,\n",
    "  \"BGN\" = 0.57,\n",
    "  \"BDT\" = 0.0084,\n",
    "  \"COP\" = 0.00024,\n",
    "  \"IDR\" = 0.000065,\n",
    "  \"ARS\" = 0.0010,\n",
    "  \"PHP\" = 0.018,\n",
    "  \"SGD\" = 0.77,\n",
    "  \"RSD\" = 0.0095,\n",
    "  \"VND\" = 0.000041,\n",
    "  \"KRW\" = 0.00075,\n",
    "  \"MYR\" = 0.230548,\n",
    "  \"AED\" = 0.27,\n",
    "  \"TWD\" = 0.031,\n",
    "  \"CLP\" = 0.0011,\n",
    "  \"NGN\" = 0.00062,\n",
    "  \"HKD\" = 0.13,\n",
    "  \"LKR\" = 0.0033,\n",
    "  \"THB\" = 0.030,\n",
    "  \"EGP\" = 0.021,\n",
    "  \"KES\" = 0.0078,\n",
    "  \"NPR\" = 0.0074\n",
    ")"
   ]
  },
  {
   "cell_type": "code",
   "execution_count": 10,
   "id": "91343847",
   "metadata": {
    "execution": {
     "iopub.execute_input": "2024-09-13T19:14:29.634156Z",
     "iopub.status.busy": "2024-09-13T19:14:29.632489Z",
     "iopub.status.idle": "2024-09-13T19:14:29.703063Z",
     "shell.execute_reply": "2024-09-13T19:14:29.701105Z"
    },
    "papermill": {
     "duration": 0.084662,
     "end_time": "2024-09-13T19:14:29.705600",
     "exception": false,
     "start_time": "2024-09-13T19:14:29.620938",
     "status": "completed"
    },
    "tags": []
   },
   "outputs": [
    {
     "data": {
      "text/html": [
       "<table class=\"dataframe\">\n",
       "<caption>A tibble: 13 × 2</caption>\n",
       "<thead>\n",
       "\t<tr><th scope=col>Industry</th><th scope=col>avg_compensation</th></tr>\n",
       "\t<tr><th scope=col>&lt;chr&gt;</th><th scope=col>&lt;dbl&gt;</th></tr>\n",
       "</thead>\n",
       "<tbody>\n",
       "\t<tr><td>NA                                                                 </td><td>6.739554e+41</td></tr>\n",
       "\t<tr><td>Information Services, IT, Software Development, or other Technology</td><td>7.548880e+11</td></tr>\n",
       "\t<tr><td>Financial Services                                                 </td><td>1.277960e+05</td></tr>\n",
       "\t<tr><td>Other                                                              </td><td>1.265913e+05</td></tr>\n",
       "\t<tr><td>Advertising Services                                               </td><td>1.122970e+05</td></tr>\n",
       "\t<tr><td>Healthcare                                                         </td><td>1.057785e+05</td></tr>\n",
       "\t<tr><td>Insurance                                                          </td><td>1.017589e+05</td></tr>\n",
       "\t<tr><td>Retail and Consumer Services                                       </td><td>9.987641e+04</td></tr>\n",
       "\t<tr><td>Manufacturing, Transportation, or Supply Chain                     </td><td>9.123980e+04</td></tr>\n",
       "\t<tr><td>Legal Services                                                     </td><td>9.048492e+04</td></tr>\n",
       "\t<tr><td><span style=white-space:pre-wrap>Oil &amp; Gas                                                          </span></td><td>8.994258e+04</td></tr>\n",
       "\t<tr><td>Wholesale                                                          </td><td>7.407975e+04</td></tr>\n",
       "\t<tr><td>Higher Education                                                   </td><td>7.378497e+04</td></tr>\n",
       "</tbody>\n",
       "</table>\n"
      ],
      "text/latex": [
       "A tibble: 13 × 2\n",
       "\\begin{tabular}{ll}\n",
       " Industry & avg\\_compensation\\\\\n",
       " <chr> & <dbl>\\\\\n",
       "\\hline\n",
       "\t NA                                                                  & 6.739554e+41\\\\\n",
       "\t Information Services, IT, Software Development, or other Technology & 7.548880e+11\\\\\n",
       "\t Financial Services                                                  & 1.277960e+05\\\\\n",
       "\t Other                                                               & 1.265913e+05\\\\\n",
       "\t Advertising Services                                                & 1.122970e+05\\\\\n",
       "\t Healthcare                                                          & 1.057785e+05\\\\\n",
       "\t Insurance                                                           & 1.017589e+05\\\\\n",
       "\t Retail and Consumer Services                                        & 9.987641e+04\\\\\n",
       "\t Manufacturing, Transportation, or Supply Chain                      & 9.123980e+04\\\\\n",
       "\t Legal Services                                                      & 9.048492e+04\\\\\n",
       "\t Oil \\& Gas                                                           & 8.994258e+04\\\\\n",
       "\t Wholesale                                                           & 7.407975e+04\\\\\n",
       "\t Higher Education                                                    & 7.378497e+04\\\\\n",
       "\\end{tabular}\n"
      ],
      "text/markdown": [
       "\n",
       "A tibble: 13 × 2\n",
       "\n",
       "| Industry &lt;chr&gt; | avg_compensation &lt;dbl&gt; |\n",
       "|---|---|\n",
       "| NA                                                                  | 6.739554e+41 |\n",
       "| Information Services, IT, Software Development, or other Technology | 7.548880e+11 |\n",
       "| Financial Services                                                  | 1.277960e+05 |\n",
       "| Other                                                               | 1.265913e+05 |\n",
       "| Advertising Services                                                | 1.122970e+05 |\n",
       "| Healthcare                                                          | 1.057785e+05 |\n",
       "| Insurance                                                           | 1.017589e+05 |\n",
       "| Retail and Consumer Services                                        | 9.987641e+04 |\n",
       "| Manufacturing, Transportation, or Supply Chain                      | 9.123980e+04 |\n",
       "| Legal Services                                                      | 9.048492e+04 |\n",
       "| Oil &amp; Gas                                                           | 8.994258e+04 |\n",
       "| Wholesale                                                           | 7.407975e+04 |\n",
       "| Higher Education                                                    | 7.378497e+04 |\n",
       "\n"
      ],
      "text/plain": [
       "   Industry                                                           \n",
       "1  NA                                                                 \n",
       "2  Information Services, IT, Software Development, or other Technology\n",
       "3  Financial Services                                                 \n",
       "4  Other                                                              \n",
       "5  Advertising Services                                               \n",
       "6  Healthcare                                                         \n",
       "7  Insurance                                                          \n",
       "8  Retail and Consumer Services                                       \n",
       "9  Manufacturing, Transportation, or Supply Chain                     \n",
       "10 Legal Services                                                     \n",
       "11 Oil & Gas                                                          \n",
       "12 Wholesale                                                          \n",
       "13 Higher Education                                                   \n",
       "   avg_compensation\n",
       "1  6.739554e+41    \n",
       "2  7.548880e+11    \n",
       "3  1.277960e+05    \n",
       "4  1.265913e+05    \n",
       "5  1.122970e+05    \n",
       "6  1.057785e+05    \n",
       "7  1.017589e+05    \n",
       "8  9.987641e+04    \n",
       "9  9.123980e+04    \n",
       "10 9.048492e+04    \n",
       "11 8.994258e+04    \n",
       "12 7.407975e+04    \n",
       "13 7.378497e+04    "
      ]
     },
     "metadata": {},
     "output_type": "display_data"
    }
   ],
   "source": [
    "#Now, convert the currencies listed above to USD and save in a new column \"compensation_USD\" \n",
    "developer_professionals <- survey_results %>%\n",
    "    mutate(currency_short = substr(Currency, 1, 3)) %>% \n",
    "    mutate(compensation_USD = CompTotal * exchange_rates[currency_short])\n",
    "\n",
    "#Then, we calculate industry that pays the most.\n",
    "industry_compensation <- developer_professionals %>% \n",
    "  group_by(Industry) %>% \n",
    "  summarise(avg_compensation = mean(compensation_USD, na.rm = TRUE)) %>%\n",
    "  arrange(desc(avg_compensation))\n",
    "\n",
    "\n",
    "View(industry_compensation)"
   ]
  },
  {
   "cell_type": "markdown",
   "id": "c3ecef3a",
   "metadata": {
    "papermill": {
     "duration": 0.009479,
     "end_time": "2024-09-13T19:14:29.724891",
     "exception": false,
     "start_time": "2024-09-13T19:14:29.715412",
     "status": "completed"
    },
    "tags": []
   },
   "source": [
    "\n",
    "* ### \"Information Services, IT, Software Developent, or other technology\" is the highest paying industry.\n",
    "* ### For a more accurate result, we can convert every currency to USD.\n",
    "* ### There is a large value for \"NA\" because a lot of industries are null in the survey (52410 out of 89184). See the code below."
   ]
  },
  {
   "cell_type": "code",
   "execution_count": 11,
   "id": "7ba19c32",
   "metadata": {
    "execution": {
     "iopub.execute_input": "2024-09-13T19:14:29.747547Z",
     "iopub.status.busy": "2024-09-13T19:14:29.745835Z",
     "iopub.status.idle": "2024-09-13T19:14:29.766031Z",
     "shell.execute_reply": "2024-09-13T19:14:29.764167Z"
    },
    "papermill": {
     "duration": 0.034249,
     "end_time": "2024-09-13T19:14:29.768655",
     "exception": false,
     "start_time": "2024-09-13T19:14:29.734406",
     "status": "completed"
    },
    "tags": []
   },
   "outputs": [
    {
     "data": {
      "text/html": [
       "52410"
      ],
      "text/latex": [
       "52410"
      ],
      "text/markdown": [
       "52410"
      ],
      "text/plain": [
       "[1] 52410"
      ]
     },
     "metadata": {},
     "output_type": "display_data"
    }
   ],
   "source": [
    "na_count <- sum(is.na(survey_results$Industry))\n",
    "head(na_count)"
   ]
  },
  {
   "cell_type": "markdown",
   "id": "00e321ed",
   "metadata": {
    "papermill": {
     "duration": 0.010062,
     "end_time": "2024-09-13T19:14:29.788443",
     "exception": false,
     "start_time": "2024-09-13T19:14:29.778381",
     "status": "completed"
    },
    "tags": []
   },
   "source": [
    "## Second Question\n",
    "\n",
    "### How much does remote working matter to employees?"
   ]
  },
  {
   "cell_type": "code",
   "execution_count": 12,
   "id": "807e9d92",
   "metadata": {
    "execution": {
     "iopub.execute_input": "2024-09-13T19:14:29.812536Z",
     "iopub.status.busy": "2024-09-13T19:14:29.810858Z",
     "iopub.status.idle": "2024-09-13T19:14:29.833929Z",
     "shell.execute_reply": "2024-09-13T19:14:29.831718Z"
    },
    "papermill": {
     "duration": 0.038407,
     "end_time": "2024-09-13T19:14:29.836507",
     "exception": false,
     "start_time": "2024-09-13T19:14:29.798100",
     "status": "completed"
    },
    "tags": []
   },
   "outputs": [
    {
     "name": "stdout",
     "output_type": "stream",
     "text": [
      "Rows: 89,184\n",
      "Columns: 6\n",
      "$ RemoteWork       \u001b[3m\u001b[90m<chr>\u001b[39m\u001b[23m NA, \"Remote\", \"Hybrid (some remote, some in-person)\",…\n",
      "$ Employment       \u001b[3m\u001b[90m<chr>\u001b[39m\u001b[23m NA, \"Employed, full-time\", \"Employed, full-time\", \"Em…\n",
      "$ Age              \u001b[3m\u001b[90m<chr>\u001b[39m\u001b[23m \"18-24 years old\", \"25-34 years old\", \"45-54 years ol…\n",
      "$ OrgSize          \u001b[3m\u001b[90m<chr>\u001b[39m\u001b[23m NA, \"2 to 9 employees\", \"5,000 to 9,999 employees\", \"…\n",
      "$ Country          \u001b[3m\u001b[90m<chr>\u001b[39m\u001b[23m NA, \"United States of America\", \"United States of Ame…\n",
      "$ CodingActivities \u001b[3m\u001b[90m<chr>\u001b[39m\u001b[23m NA, \"Hobby;Contribute to open-source projects;Bootstr…\n"
     ]
    }
   ],
   "source": [
    "glimpse(second_question)"
   ]
  },
  {
   "cell_type": "code",
   "execution_count": 13,
   "id": "ce00fd50",
   "metadata": {
    "execution": {
     "iopub.execute_input": "2024-09-13T19:14:29.859547Z",
     "iopub.status.busy": "2024-09-13T19:14:29.857855Z",
     "iopub.status.idle": "2024-09-13T19:14:29.911348Z",
     "shell.execute_reply": "2024-09-13T19:14:29.909087Z"
    },
    "papermill": {
     "duration": 0.068305,
     "end_time": "2024-09-13T19:14:29.914516",
     "exception": false,
     "start_time": "2024-09-13T19:14:29.846211",
     "status": "completed"
    },
    "tags": []
   },
   "outputs": [
    {
     "data": {
      "text/html": [
       "<table class=\"dataframe\">\n",
       "<caption>A tibble: 4 × 3</caption>\n",
       "<thead>\n",
       "\t<tr><th scope=col>RemoteWork</th><th scope=col>count</th><th scope=col>percentage</th></tr>\n",
       "\t<tr><th scope=col>&lt;chr&gt;</th><th scope=col>&lt;int&gt;</th><th scope=col>&lt;dbl&gt;</th></tr>\n",
       "</thead>\n",
       "<tbody>\n",
       "\t<tr><td>Hybrid (some remote, some in-person)</td><td>26537</td><td>42.48</td></tr>\n",
       "\t<tr><td>Remote                              </td><td>25614</td><td>41.00</td></tr>\n",
       "\t<tr><td>In-person                           </td><td>10304</td><td>16.49</td></tr>\n",
       "\t<tr><td>NA                                  </td><td>   13</td><td> 0.02</td></tr>\n",
       "</tbody>\n",
       "</table>\n"
      ],
      "text/latex": [
       "A tibble: 4 × 3\n",
       "\\begin{tabular}{lll}\n",
       " RemoteWork & count & percentage\\\\\n",
       " <chr> & <int> & <dbl>\\\\\n",
       "\\hline\n",
       "\t Hybrid (some remote, some in-person) & 26537 & 42.48\\\\\n",
       "\t Remote                               & 25614 & 41.00\\\\\n",
       "\t In-person                            & 10304 & 16.49\\\\\n",
       "\t NA                                   &    13 &  0.02\\\\\n",
       "\\end{tabular}\n"
      ],
      "text/markdown": [
       "\n",
       "A tibble: 4 × 3\n",
       "\n",
       "| RemoteWork &lt;chr&gt; | count &lt;int&gt; | percentage &lt;dbl&gt; |\n",
       "|---|---|---|\n",
       "| Hybrid (some remote, some in-person) | 26537 | 42.48 |\n",
       "| Remote                               | 25614 | 41.00 |\n",
       "| In-person                            | 10304 | 16.49 |\n",
       "| NA                                   |    13 |  0.02 |\n",
       "\n"
      ],
      "text/plain": [
       "  RemoteWork                           count percentage\n",
       "1 Hybrid (some remote, some in-person) 26537 42.48     \n",
       "2 Remote                               25614 41.00     \n",
       "3 In-person                            10304 16.49     \n",
       "4 NA                                      13  0.02     "
      ]
     },
     "metadata": {},
     "output_type": "display_data"
    }
   ],
   "source": [
    "# First, filter the dataframe to only include employees before carrying out analysis\n",
    "\n",
    "remote_work <- second_question %>%\n",
    "    filter(Employment %in% \n",
    "    c(\"Employed, full-time\", \"Employed, part-time\", \"Independent contractor, freelancer, or self-employed\"))\n",
    "\n",
    "remote_happiness <- remote_work %>%\n",
    "  group_by(RemoteWork) %>%\n",
    "  summarize(count = n()) %>%\n",
    "  arrange(desc(count)) %>%\n",
    "  mutate(percentage = round(count / sum(count) * 100, 2))\n",
    "\n",
    "View(remote_happiness)"
   ]
  },
  {
   "cell_type": "markdown",
   "id": "c371ae24",
   "metadata": {
    "papermill": {
     "duration": 0.009714,
     "end_time": "2024-09-13T19:14:29.934095",
     "exception": false,
     "start_time": "2024-09-13T19:14:29.924381",
     "status": "completed"
    },
    "tags": []
   },
   "source": [
    "\n",
    "* ### From the result, about 83% of all employees work remotely in some form, with 41% fully remote workers. As such, remote work matters a lot."
   ]
  },
  {
   "cell_type": "markdown",
   "id": "115ce304",
   "metadata": {
    "papermill": {
     "duration": 0.009731,
     "end_time": "2024-09-13T19:14:29.953752",
     "exception": false,
     "start_time": "2024-09-13T19:14:29.944021",
     "status": "completed"
    },
    "tags": []
   },
   "source": [
    "## Third Question\n",
    "\n",
    "### How does coding experience affect level of pay"
   ]
  },
  {
   "cell_type": "code",
   "execution_count": 14,
   "id": "355df8ab",
   "metadata": {
    "execution": {
     "iopub.execute_input": "2024-09-13T19:14:29.977641Z",
     "iopub.status.busy": "2024-09-13T19:14:29.975933Z",
     "iopub.status.idle": "2024-09-13T19:14:29.998849Z",
     "shell.execute_reply": "2024-09-13T19:14:29.996480Z"
    },
    "papermill": {
     "duration": 0.038134,
     "end_time": "2024-09-13T19:14:30.002178",
     "exception": false,
     "start_time": "2024-09-13T19:14:29.964044",
     "status": "completed"
    },
    "tags": []
   },
   "outputs": [
    {
     "name": "stdout",
     "output_type": "stream",
     "text": [
      "Rows: 89,184\n",
      "Columns: 3\n",
      "$ CompTotal    \u001b[3m\u001b[90m<dbl>\u001b[39m\u001b[23m NA, 285000, 250000, 156000, 1320000, 78000, 135000, 80000…\n",
      "$ YearsCode    \u001b[3m\u001b[90m<chr>\u001b[39m\u001b[23m NA, \"18\", \"27\", \"12\", \"6\", \"21\", \"4\", \"5\", \"20\", \"6\", \"14…\n",
      "$ YearsCodePro \u001b[3m\u001b[90m<chr>\u001b[39m\u001b[23m NA, \"9\", \"23\", \"7\", \"4\", \"21\", \"3\", \"3\", \"15\", NA, \"3\", \"…\n"
     ]
    }
   ],
   "source": [
    "glimpse(third_question)"
   ]
  },
  {
   "cell_type": "code",
   "execution_count": 15,
   "id": "ba8e62c8",
   "metadata": {
    "execution": {
     "iopub.execute_input": "2024-09-13T19:14:30.027041Z",
     "iopub.status.busy": "2024-09-13T19:14:30.025339Z",
     "iopub.status.idle": "2024-09-13T19:14:30.375403Z",
     "shell.execute_reply": "2024-09-13T19:14:30.372772Z"
    },
    "papermill": {
     "duration": 0.366338,
     "end_time": "2024-09-13T19:14:30.378982",
     "exception": false,
     "start_time": "2024-09-13T19:14:30.012644",
     "status": "completed"
    },
    "tags": []
   },
   "outputs": [
    {
     "data": {
      "text/html": [
       "<table class=\"dataframe\">\n",
       "<caption>A tibble: 53 × 3</caption>\n",
       "<thead>\n",
       "\t<tr><th scope=col>YearsCode</th><th scope=col>count</th><th scope=col>mean_compensation</th></tr>\n",
       "\t<tr><th scope=col>&lt;chr&gt;</th><th scope=col>&lt;int&gt;</th><th scope=col>&lt;dbl&gt;</th></tr>\n",
       "</thead>\n",
       "<tbody>\n",
       "\t<tr><td>More than 50 years</td><td> 353</td><td>4.504505e+44</td></tr>\n",
       "\t<tr><td>11                </td><td>2519</td><td>5.865103e+17</td></tr>\n",
       "\t<tr><td>22                </td><td>1210</td><td>1.216545e+13</td></tr>\n",
       "\t<tr><td>8                 </td><td>4879</td><td>3.612733e+12</td></tr>\n",
       "\t<tr><td>10                </td><td>6521</td><td>2.504513e+11</td></tr>\n",
       "\t<tr><td>4                 </td><td>4466</td><td>3.343340e+09</td></tr>\n",
       "\t<tr><td>Less than 1 year  </td><td> 968</td><td>3.372115e+08</td></tr>\n",
       "\t<tr><td>NA                </td><td>1749</td><td>2.678489e+08</td></tr>\n",
       "\t<tr><td>36                </td><td> 282</td><td>6.353451e+07</td></tr>\n",
       "\t<tr><td>3                 </td><td>4269</td><td>3.108499e+07</td></tr>\n",
       "\t<tr><td>17                </td><td>1544</td><td>2.761786e+07</td></tr>\n",
       "\t<tr><td>14                </td><td>2278</td><td>2.484318e+07</td></tr>\n",
       "\t<tr><td>32                </td><td> 444</td><td>2.267346e+07</td></tr>\n",
       "\t<tr><td>12                </td><td>3471</td><td>2.159428e+07</td></tr>\n",
       "\t<tr><td>9                 </td><td>3130</td><td>2.147536e+07</td></tr>\n",
       "\t<tr><td>5                 </td><td>5415</td><td>2.131504e+07</td></tr>\n",
       "\t<tr><td>7                 </td><td>4800</td><td>1.922351e+07</td></tr>\n",
       "\t<tr><td>18                </td><td>1690</td><td>1.486990e+07</td></tr>\n",
       "\t<tr><td>19                </td><td> 826</td><td>1.112820e+07</td></tr>\n",
       "\t<tr><td>15                </td><td>4336</td><td>1.048651e+07</td></tr>\n",
       "\t<tr><td>2                 </td><td>2826</td><td>9.629769e+06</td></tr>\n",
       "\t<tr><td>6                 </td><td>4893</td><td>9.296070e+06</td></tr>\n",
       "\t<tr><td>24                </td><td> 959</td><td>8.192939e+06</td></tr>\n",
       "\t<tr><td>16                </td><td>1842</td><td>5.987600e+06</td></tr>\n",
       "\t<tr><td>21                </td><td> 761</td><td>5.926232e+06</td></tr>\n",
       "\t<tr><td>1                 </td><td>1294</td><td>5.503270e+06</td></tr>\n",
       "\t<tr><td>13                </td><td>2601</td><td>4.204583e+06</td></tr>\n",
       "\t<tr><td>20                </td><td>4021</td><td>2.885957e+06</td></tr>\n",
       "\t<tr><td>25                </td><td>2685</td><td>2.199604e+06</td></tr>\n",
       "\t<tr><td>26                </td><td> 706</td><td>1.655409e+06</td></tr>\n",
       "\t<tr><td>23                </td><td>1327</td><td>1.642028e+06</td></tr>\n",
       "\t<tr><td>27                </td><td> 710</td><td>1.402850e+06</td></tr>\n",
       "\t<tr><td>35                </td><td>1118</td><td>1.400847e+06</td></tr>\n",
       "\t<tr><td>30                </td><td>2078</td><td>1.353212e+06</td></tr>\n",
       "\t<tr><td>28                </td><td> 715</td><td>1.174558e+06</td></tr>\n",
       "\t<tr><td>31                </td><td> 272</td><td>1.088323e+06</td></tr>\n",
       "\t<tr><td>45                </td><td> 360</td><td>8.555072e+05</td></tr>\n",
       "\t<tr><td>38                </td><td> 428</td><td>8.460540e+05</td></tr>\n",
       "\t<tr><td>33                </td><td> 496</td><td>5.800757e+05</td></tr>\n",
       "\t<tr><td>39                </td><td> 229</td><td>5.057700e+05</td></tr>\n",
       "\t<tr><td>34                </td><td> 333</td><td>4.535715e+05</td></tr>\n",
       "\t<tr><td>29                </td><td> 324</td><td>4.236405e+05</td></tr>\n",
       "\t<tr><td>44                </td><td> 160</td><td>4.232375e+05</td></tr>\n",
       "\t<tr><td>37                </td><td> 312</td><td>4.051481e+05</td></tr>\n",
       "\t<tr><td>40                </td><td>1302</td><td>3.990705e+05</td></tr>\n",
       "\t<tr><td>43                </td><td> 265</td><td>2.915439e+05</td></tr>\n",
       "\t<tr><td>42                </td><td> 347</td><td>2.801256e+05</td></tr>\n",
       "\t<tr><td>48                </td><td>  96</td><td>2.513360e+05</td></tr>\n",
       "\t<tr><td>41                </td><td> 227</td><td>2.387978e+05</td></tr>\n",
       "\t<tr><td>49                </td><td>  42</td><td>2.045238e+05</td></tr>\n",
       "\t<tr><td>47                </td><td>  79</td><td>1.515690e+05</td></tr>\n",
       "\t<tr><td>46                </td><td> 101</td><td>1.363242e+05</td></tr>\n",
       "\t<tr><td>50                </td><td> 125</td><td>1.346256e+05</td></tr>\n",
       "</tbody>\n",
       "</table>\n"
      ],
      "text/latex": [
       "A tibble: 53 × 3\n",
       "\\begin{tabular}{lll}\n",
       " YearsCode & count & mean\\_compensation\\\\\n",
       " <chr> & <int> & <dbl>\\\\\n",
       "\\hline\n",
       "\t More than 50 years &  353 & 4.504505e+44\\\\\n",
       "\t 11                 & 2519 & 5.865103e+17\\\\\n",
       "\t 22                 & 1210 & 1.216545e+13\\\\\n",
       "\t 8                  & 4879 & 3.612733e+12\\\\\n",
       "\t 10                 & 6521 & 2.504513e+11\\\\\n",
       "\t 4                  & 4466 & 3.343340e+09\\\\\n",
       "\t Less than 1 year   &  968 & 3.372115e+08\\\\\n",
       "\t NA                 & 1749 & 2.678489e+08\\\\\n",
       "\t 36                 &  282 & 6.353451e+07\\\\\n",
       "\t 3                  & 4269 & 3.108499e+07\\\\\n",
       "\t 17                 & 1544 & 2.761786e+07\\\\\n",
       "\t 14                 & 2278 & 2.484318e+07\\\\\n",
       "\t 32                 &  444 & 2.267346e+07\\\\\n",
       "\t 12                 & 3471 & 2.159428e+07\\\\\n",
       "\t 9                  & 3130 & 2.147536e+07\\\\\n",
       "\t 5                  & 5415 & 2.131504e+07\\\\\n",
       "\t 7                  & 4800 & 1.922351e+07\\\\\n",
       "\t 18                 & 1690 & 1.486990e+07\\\\\n",
       "\t 19                 &  826 & 1.112820e+07\\\\\n",
       "\t 15                 & 4336 & 1.048651e+07\\\\\n",
       "\t 2                  & 2826 & 9.629769e+06\\\\\n",
       "\t 6                  & 4893 & 9.296070e+06\\\\\n",
       "\t 24                 &  959 & 8.192939e+06\\\\\n",
       "\t 16                 & 1842 & 5.987600e+06\\\\\n",
       "\t 21                 &  761 & 5.926232e+06\\\\\n",
       "\t 1                  & 1294 & 5.503270e+06\\\\\n",
       "\t 13                 & 2601 & 4.204583e+06\\\\\n",
       "\t 20                 & 4021 & 2.885957e+06\\\\\n",
       "\t 25                 & 2685 & 2.199604e+06\\\\\n",
       "\t 26                 &  706 & 1.655409e+06\\\\\n",
       "\t 23                 & 1327 & 1.642028e+06\\\\\n",
       "\t 27                 &  710 & 1.402850e+06\\\\\n",
       "\t 35                 & 1118 & 1.400847e+06\\\\\n",
       "\t 30                 & 2078 & 1.353212e+06\\\\\n",
       "\t 28                 &  715 & 1.174558e+06\\\\\n",
       "\t 31                 &  272 & 1.088323e+06\\\\\n",
       "\t 45                 &  360 & 8.555072e+05\\\\\n",
       "\t 38                 &  428 & 8.460540e+05\\\\\n",
       "\t 33                 &  496 & 5.800757e+05\\\\\n",
       "\t 39                 &  229 & 5.057700e+05\\\\\n",
       "\t 34                 &  333 & 4.535715e+05\\\\\n",
       "\t 29                 &  324 & 4.236405e+05\\\\\n",
       "\t 44                 &  160 & 4.232375e+05\\\\\n",
       "\t 37                 &  312 & 4.051481e+05\\\\\n",
       "\t 40                 & 1302 & 3.990705e+05\\\\\n",
       "\t 43                 &  265 & 2.915439e+05\\\\\n",
       "\t 42                 &  347 & 2.801256e+05\\\\\n",
       "\t 48                 &   96 & 2.513360e+05\\\\\n",
       "\t 41                 &  227 & 2.387978e+05\\\\\n",
       "\t 49                 &   42 & 2.045238e+05\\\\\n",
       "\t 47                 &   79 & 1.515690e+05\\\\\n",
       "\t 46                 &  101 & 1.363242e+05\\\\\n",
       "\t 50                 &  125 & 1.346256e+05\\\\\n",
       "\\end{tabular}\n"
      ],
      "text/markdown": [
       "\n",
       "A tibble: 53 × 3\n",
       "\n",
       "| YearsCode &lt;chr&gt; | count &lt;int&gt; | mean_compensation &lt;dbl&gt; |\n",
       "|---|---|---|\n",
       "| More than 50 years |  353 | 4.504505e+44 |\n",
       "| 11                 | 2519 | 5.865103e+17 |\n",
       "| 22                 | 1210 | 1.216545e+13 |\n",
       "| 8                  | 4879 | 3.612733e+12 |\n",
       "| 10                 | 6521 | 2.504513e+11 |\n",
       "| 4                  | 4466 | 3.343340e+09 |\n",
       "| Less than 1 year   |  968 | 3.372115e+08 |\n",
       "| NA                 | 1749 | 2.678489e+08 |\n",
       "| 36                 |  282 | 6.353451e+07 |\n",
       "| 3                  | 4269 | 3.108499e+07 |\n",
       "| 17                 | 1544 | 2.761786e+07 |\n",
       "| 14                 | 2278 | 2.484318e+07 |\n",
       "| 32                 |  444 | 2.267346e+07 |\n",
       "| 12                 | 3471 | 2.159428e+07 |\n",
       "| 9                  | 3130 | 2.147536e+07 |\n",
       "| 5                  | 5415 | 2.131504e+07 |\n",
       "| 7                  | 4800 | 1.922351e+07 |\n",
       "| 18                 | 1690 | 1.486990e+07 |\n",
       "| 19                 |  826 | 1.112820e+07 |\n",
       "| 15                 | 4336 | 1.048651e+07 |\n",
       "| 2                  | 2826 | 9.629769e+06 |\n",
       "| 6                  | 4893 | 9.296070e+06 |\n",
       "| 24                 |  959 | 8.192939e+06 |\n",
       "| 16                 | 1842 | 5.987600e+06 |\n",
       "| 21                 |  761 | 5.926232e+06 |\n",
       "| 1                  | 1294 | 5.503270e+06 |\n",
       "| 13                 | 2601 | 4.204583e+06 |\n",
       "| 20                 | 4021 | 2.885957e+06 |\n",
       "| 25                 | 2685 | 2.199604e+06 |\n",
       "| 26                 |  706 | 1.655409e+06 |\n",
       "| 23                 | 1327 | 1.642028e+06 |\n",
       "| 27                 |  710 | 1.402850e+06 |\n",
       "| 35                 | 1118 | 1.400847e+06 |\n",
       "| 30                 | 2078 | 1.353212e+06 |\n",
       "| 28                 |  715 | 1.174558e+06 |\n",
       "| 31                 |  272 | 1.088323e+06 |\n",
       "| 45                 |  360 | 8.555072e+05 |\n",
       "| 38                 |  428 | 8.460540e+05 |\n",
       "| 33                 |  496 | 5.800757e+05 |\n",
       "| 39                 |  229 | 5.057700e+05 |\n",
       "| 34                 |  333 | 4.535715e+05 |\n",
       "| 29                 |  324 | 4.236405e+05 |\n",
       "| 44                 |  160 | 4.232375e+05 |\n",
       "| 37                 |  312 | 4.051481e+05 |\n",
       "| 40                 | 1302 | 3.990705e+05 |\n",
       "| 43                 |  265 | 2.915439e+05 |\n",
       "| 42                 |  347 | 2.801256e+05 |\n",
       "| 48                 |   96 | 2.513360e+05 |\n",
       "| 41                 |  227 | 2.387978e+05 |\n",
       "| 49                 |   42 | 2.045238e+05 |\n",
       "| 47                 |   79 | 1.515690e+05 |\n",
       "| 46                 |  101 | 1.363242e+05 |\n",
       "| 50                 |  125 | 1.346256e+05 |\n",
       "\n"
      ],
      "text/plain": [
       "   YearsCode          count mean_compensation\n",
       "1  More than 50 years  353  4.504505e+44     \n",
       "2  11                 2519  5.865103e+17     \n",
       "3  22                 1210  1.216545e+13     \n",
       "4  8                  4879  3.612733e+12     \n",
       "5  10                 6521  2.504513e+11     \n",
       "6  4                  4466  3.343340e+09     \n",
       "7  Less than 1 year    968  3.372115e+08     \n",
       "8  NA                 1749  2.678489e+08     \n",
       "9  36                  282  6.353451e+07     \n",
       "10 3                  4269  3.108499e+07     \n",
       "11 17                 1544  2.761786e+07     \n",
       "12 14                 2278  2.484318e+07     \n",
       "13 32                  444  2.267346e+07     \n",
       "14 12                 3471  2.159428e+07     \n",
       "15 9                  3130  2.147536e+07     \n",
       "16 5                  5415  2.131504e+07     \n",
       "17 7                  4800  1.922351e+07     \n",
       "18 18                 1690  1.486990e+07     \n",
       "19 19                  826  1.112820e+07     \n",
       "20 15                 4336  1.048651e+07     \n",
       "21 2                  2826  9.629769e+06     \n",
       "22 6                  4893  9.296070e+06     \n",
       "23 24                  959  8.192939e+06     \n",
       "24 16                 1842  5.987600e+06     \n",
       "25 21                  761  5.926232e+06     \n",
       "26 1                  1294  5.503270e+06     \n",
       "27 13                 2601  4.204583e+06     \n",
       "28 20                 4021  2.885957e+06     \n",
       "29 25                 2685  2.199604e+06     \n",
       "30 26                  706  1.655409e+06     \n",
       "31 23                 1327  1.642028e+06     \n",
       "32 27                  710  1.402850e+06     \n",
       "33 35                 1118  1.400847e+06     \n",
       "34 30                 2078  1.353212e+06     \n",
       "35 28                  715  1.174558e+06     \n",
       "36 31                  272  1.088323e+06     \n",
       "37 45                  360  8.555072e+05     \n",
       "38 38                  428  8.460540e+05     \n",
       "39 33                  496  5.800757e+05     \n",
       "40 39                  229  5.057700e+05     \n",
       "41 34                  333  4.535715e+05     \n",
       "42 29                  324  4.236405e+05     \n",
       "43 44                  160  4.232375e+05     \n",
       "44 37                  312  4.051481e+05     \n",
       "45 40                 1302  3.990705e+05     \n",
       "46 43                  265  2.915439e+05     \n",
       "47 42                  347  2.801256e+05     \n",
       "48 48                   96  2.513360e+05     \n",
       "49 41                  227  2.387978e+05     \n",
       "50 49                   42  2.045238e+05     \n",
       "51 47                   79  1.515690e+05     \n",
       "52 46                  101  1.363242e+05     \n",
       "53 50                  125  1.346256e+05     "
      ]
     },
     "metadata": {},
     "output_type": "display_data"
    }
   ],
   "source": [
    "earning <- third_question %>%\n",
    "  group_by(YearsCode) %>%\n",
    "  summarize(\n",
    "    count = n(),\n",
    "    mean_compensation = mean(CompTotal, na.rm = TRUE)\n",
    "  ) %>%\n",
    "  arrange(desc(mean_compensation))\n",
    "\n",
    "\n",
    "View(earning)"
   ]
  },
  {
   "cell_type": "markdown",
   "id": "51d491ad",
   "metadata": {
    "papermill": {
     "duration": 0.011147,
     "end_time": "2024-09-13T19:14:30.401631",
     "exception": false,
     "start_time": "2024-09-13T19:14:30.390484",
     "status": "completed"
    },
    "tags": []
   },
   "source": [
    "* ### People with over 50 years professional coding experience earn the highest. This might suggest employees within this bracket are in managerial positions or owners of companies.\n",
    "* ### But aside that, there's no particular pattern that would suggest experience affects pay."
   ]
  },
  {
   "cell_type": "markdown",
   "id": "45563512",
   "metadata": {
    "papermill": {
     "duration": 0.011235,
     "end_time": "2024-09-13T19:14:30.424069",
     "exception": false,
     "start_time": "2024-09-13T19:14:30.412834",
     "status": "completed"
    },
    "tags": []
   },
   "source": [
    "## Forth Question\n",
    "\n",
    "### What's the most popular method of learning to code"
   ]
  },
  {
   "cell_type": "code",
   "execution_count": 16,
   "id": "9b17b794",
   "metadata": {
    "execution": {
     "iopub.execute_input": "2024-09-13T19:14:30.450077Z",
     "iopub.status.busy": "2024-09-13T19:14:30.448401Z",
     "iopub.status.idle": "2024-09-13T19:14:30.471848Z",
     "shell.execute_reply": "2024-09-13T19:14:30.469263Z"
    },
    "papermill": {
     "duration": 0.040268,
     "end_time": "2024-09-13T19:14:30.475319",
     "exception": false,
     "start_time": "2024-09-13T19:14:30.435051",
     "status": "completed"
    },
    "tags": []
   },
   "outputs": [
    {
     "name": "stdout",
     "output_type": "stream",
     "text": [
      "Rows: 89,184\n",
      "Columns: 1\n",
      "$ LearnCode \u001b[3m\u001b[90m<chr>\u001b[39m\u001b[23m NA, \"Books / Physical media;Colleague;Friend or family membe…\n"
     ]
    }
   ],
   "source": [
    "glimpse(forth_question)"
   ]
  },
  {
   "cell_type": "code",
   "execution_count": 17,
   "id": "2a97a27b",
   "metadata": {
    "execution": {
     "iopub.execute_input": "2024-09-13T19:14:30.500379Z",
     "iopub.status.busy": "2024-09-13T19:14:30.498688Z",
     "iopub.status.idle": "2024-09-13T19:14:32.186223Z",
     "shell.execute_reply": "2024-09-13T19:14:32.183641Z"
    },
    "papermill": {
     "duration": 1.703276,
     "end_time": "2024-09-13T19:14:32.189333",
     "exception": false,
     "start_time": "2024-09-13T19:14:30.486057",
     "status": "completed"
    },
    "tags": []
   },
   "outputs": [
    {
     "data": {
      "text/html": [
       "<table class=\"dataframe\">\n",
       "<caption>A data.frame: 6 × 10</caption>\n",
       "<thead>\n",
       "\t<tr><th></th><th scope=col>resource_1</th><th scope=col>resource_2</th><th scope=col>resource_3</th><th scope=col>resource_4</th><th scope=col>resource_5</th><th scope=col>resource_6</th><th scope=col>resource_7</th><th scope=col>resource_8</th><th scope=col>resource_9</th><th scope=col>resource_10</th></tr>\n",
       "\t<tr><th></th><th scope=col>&lt;chr&gt;</th><th scope=col>&lt;chr&gt;</th><th scope=col>&lt;chr&gt;</th><th scope=col>&lt;chr&gt;</th><th scope=col>&lt;chr&gt;</th><th scope=col>&lt;chr&gt;</th><th scope=col>&lt;chr&gt;</th><th scope=col>&lt;chr&gt;</th><th scope=col>&lt;chr&gt;</th><th scope=col>&lt;chr&gt;</th></tr>\n",
       "</thead>\n",
       "<tbody>\n",
       "\t<tr><th scope=row>1</th><td>NA                    </td><td>NA                             </td><td>NA                                                 </td><td>NA                                                 </td><td>NA                                     </td><td>NA                 </td><td>NA                                                 </td><td>NA                                     </td><td>NA</td><td>NA</td></tr>\n",
       "\t<tr><th scope=row>2</th><td>Books / Physical media</td><td>Colleague                      </td><td>Friend or family member                            </td><td>Hackathons (virtual or in-person)                  </td><td>Online Courses or Certification        </td><td>On the job training</td><td>Other online resources (e.g., videos, blogs, forum)</td><td>School (i.e., University, College, etc)</td><td>NA</td><td>NA</td></tr>\n",
       "\t<tr><th scope=row>3</th><td>Books / Physical media</td><td>Colleague                      </td><td>On the job training                                </td><td>Other online resources (e.g., videos, blogs, forum)</td><td>School (i.e., University, College, etc)</td><td>NA                 </td><td>NA                                                 </td><td>NA                                     </td><td>NA</td><td>NA</td></tr>\n",
       "\t<tr><th scope=row>4</th><td>Colleague             </td><td>Friend or family member        </td><td>Other online resources (e.g., videos, blogs, forum)</td><td>School (i.e., University, College, etc)            </td><td>NA                                     </td><td>NA                 </td><td>NA                                                 </td><td>NA                                     </td><td>NA</td><td>NA</td></tr>\n",
       "\t<tr><th scope=row>5</th><td>Books / Physical media</td><td>Online Courses or Certification</td><td>Other online resources (e.g., videos, blogs, forum)</td><td>School (i.e., University, College, etc)            </td><td>NA                                     </td><td>NA                 </td><td>NA                                                 </td><td>NA                                     </td><td>NA</td><td>NA</td></tr>\n",
       "\t<tr><th scope=row>6</th><td>Books / Physical media</td><td>Colleague                      </td><td>Online Courses or Certification                    </td><td>Other online resources (e.g., videos, blogs, forum)</td><td>NA                                     </td><td>NA                 </td><td>NA                                                 </td><td>NA                                     </td><td>NA</td><td>NA</td></tr>\n",
       "</tbody>\n",
       "</table>\n"
      ],
      "text/latex": [
       "A data.frame: 6 × 10\n",
       "\\begin{tabular}{r|llllllllll}\n",
       "  & resource\\_1 & resource\\_2 & resource\\_3 & resource\\_4 & resource\\_5 & resource\\_6 & resource\\_7 & resource\\_8 & resource\\_9 & resource\\_10\\\\\n",
       "  & <chr> & <chr> & <chr> & <chr> & <chr> & <chr> & <chr> & <chr> & <chr> & <chr>\\\\\n",
       "\\hline\n",
       "\t1 & NA                     & NA                              & NA                                                  & NA                                                  & NA                                      & NA                  & NA                                                  & NA                                      & NA & NA\\\\\n",
       "\t2 & Books / Physical media & Colleague                       & Friend or family member                             & Hackathons (virtual or in-person)                   & Online Courses or Certification         & On the job training & Other online resources (e.g., videos, blogs, forum) & School (i.e., University, College, etc) & NA & NA\\\\\n",
       "\t3 & Books / Physical media & Colleague                       & On the job training                                 & Other online resources (e.g., videos, blogs, forum) & School (i.e., University, College, etc) & NA                  & NA                                                  & NA                                      & NA & NA\\\\\n",
       "\t4 & Colleague              & Friend or family member         & Other online resources (e.g., videos, blogs, forum) & School (i.e., University, College, etc)             & NA                                      & NA                  & NA                                                  & NA                                      & NA & NA\\\\\n",
       "\t5 & Books / Physical media & Online Courses or Certification & Other online resources (e.g., videos, blogs, forum) & School (i.e., University, College, etc)             & NA                                      & NA                  & NA                                                  & NA                                      & NA & NA\\\\\n",
       "\t6 & Books / Physical media & Colleague                       & Online Courses or Certification                     & Other online resources (e.g., videos, blogs, forum) & NA                                      & NA                  & NA                                                  & NA                                      & NA & NA\\\\\n",
       "\\end{tabular}\n"
      ],
      "text/markdown": [
       "\n",
       "A data.frame: 6 × 10\n",
       "\n",
       "| <!--/--> | resource_1 &lt;chr&gt; | resource_2 &lt;chr&gt; | resource_3 &lt;chr&gt; | resource_4 &lt;chr&gt; | resource_5 &lt;chr&gt; | resource_6 &lt;chr&gt; | resource_7 &lt;chr&gt; | resource_8 &lt;chr&gt; | resource_9 &lt;chr&gt; | resource_10 &lt;chr&gt; |\n",
       "|---|---|---|---|---|---|---|---|---|---|---|\n",
       "| 1 | NA                     | NA                              | NA                                                  | NA                                                  | NA                                      | NA                  | NA                                                  | NA                                      | NA | NA |\n",
       "| 2 | Books / Physical media | Colleague                       | Friend or family member                             | Hackathons (virtual or in-person)                   | Online Courses or Certification         | On the job training | Other online resources (e.g., videos, blogs, forum) | School (i.e., University, College, etc) | NA | NA |\n",
       "| 3 | Books / Physical media | Colleague                       | On the job training                                 | Other online resources (e.g., videos, blogs, forum) | School (i.e., University, College, etc) | NA                  | NA                                                  | NA                                      | NA | NA |\n",
       "| 4 | Colleague              | Friend or family member         | Other online resources (e.g., videos, blogs, forum) | School (i.e., University, College, etc)             | NA                                      | NA                  | NA                                                  | NA                                      | NA | NA |\n",
       "| 5 | Books / Physical media | Online Courses or Certification | Other online resources (e.g., videos, blogs, forum) | School (i.e., University, College, etc)             | NA                                      | NA                  | NA                                                  | NA                                      | NA | NA |\n",
       "| 6 | Books / Physical media | Colleague                       | Online Courses or Certification                     | Other online resources (e.g., videos, blogs, forum) | NA                                      | NA                  | NA                                                  | NA                                      | NA | NA |\n",
       "\n"
      ],
      "text/plain": [
       "  resource_1             resource_2                     \n",
       "1 NA                     NA                             \n",
       "2 Books / Physical media Colleague                      \n",
       "3 Books / Physical media Colleague                      \n",
       "4 Colleague              Friend or family member        \n",
       "5 Books / Physical media Online Courses or Certification\n",
       "6 Books / Physical media Colleague                      \n",
       "  resource_3                                         \n",
       "1 NA                                                 \n",
       "2 Friend or family member                            \n",
       "3 On the job training                                \n",
       "4 Other online resources (e.g., videos, blogs, forum)\n",
       "5 Other online resources (e.g., videos, blogs, forum)\n",
       "6 Online Courses or Certification                    \n",
       "  resource_4                                         \n",
       "1 NA                                                 \n",
       "2 Hackathons (virtual or in-person)                  \n",
       "3 Other online resources (e.g., videos, blogs, forum)\n",
       "4 School (i.e., University, College, etc)            \n",
       "5 School (i.e., University, College, etc)            \n",
       "6 Other online resources (e.g., videos, blogs, forum)\n",
       "  resource_5                              resource_6         \n",
       "1 NA                                      NA                 \n",
       "2 Online Courses or Certification         On the job training\n",
       "3 School (i.e., University, College, etc) NA                 \n",
       "4 NA                                      NA                 \n",
       "5 NA                                      NA                 \n",
       "6 NA                                      NA                 \n",
       "  resource_7                                         \n",
       "1 NA                                                 \n",
       "2 Other online resources (e.g., videos, blogs, forum)\n",
       "3 NA                                                 \n",
       "4 NA                                                 \n",
       "5 NA                                                 \n",
       "6 NA                                                 \n",
       "  resource_8                              resource_9 resource_10\n",
       "1 NA                                      NA         NA         \n",
       "2 School (i.e., University, College, etc) NA         NA         \n",
       "3 NA                                      NA         NA         \n",
       "4 NA                                      NA         NA         \n",
       "5 NA                                      NA         NA         \n",
       "6 NA                                      NA         NA         "
      ]
     },
     "metadata": {},
     "output_type": "display_data"
    }
   ],
   "source": [
    "#From the dataset, respondents were given the opportunity to select as many learning methods as possible from the 10 specified options. \n",
    "#As such, the the LearnCode column contains more than one entry, seperated with a semi-colon.\n",
    "# To get the most popular learning method, We seperate each learning option into a different column\n",
    "\n",
    "seperate_data <- forth_question %>% \n",
    "    separate(LearnCode, into = c(\"resource_1\", \"resource_2\", \"resource_3\", \"resource_4\", \"resource_5\", \"resource_6\", \"resource_7\", \"resource_8\",\"resource_9\", \"resource_10\"), sep = \";\", fill = \"right\")\n",
    "\n",
    "\n",
    "head(seperate_data)"
   ]
  },
  {
   "cell_type": "code",
   "execution_count": 18,
   "id": "d3881718",
   "metadata": {
    "execution": {
     "iopub.execute_input": "2024-09-13T19:14:32.215164Z",
     "iopub.status.busy": "2024-09-13T19:14:32.213497Z",
     "iopub.status.idle": "2024-09-13T19:14:32.291333Z",
     "shell.execute_reply": "2024-09-13T19:14:32.289446Z"
    },
    "papermill": {
     "duration": 0.093498,
     "end_time": "2024-09-13T19:14:32.294000",
     "exception": false,
     "start_time": "2024-09-13T19:14:32.200502",
     "status": "completed"
    },
    "tags": []
   },
   "outputs": [
    {
     "data": {
      "text/html": [
       "<table class=\"dataframe\">\n",
       "<caption>A tibble: 6 × 2</caption>\n",
       "<thead>\n",
       "\t<tr><th scope=col>Resource</th><th scope=col>correct</th></tr>\n",
       "\t<tr><th scope=col>&lt;chr&gt;</th><th scope=col>&lt;chr&gt;</th></tr>\n",
       "</thead>\n",
       "<tbody>\n",
       "\t<tr><td>resource_1</td><td>NA</td></tr>\n",
       "\t<tr><td>resource_2</td><td>NA</td></tr>\n",
       "\t<tr><td>resource_3</td><td>NA</td></tr>\n",
       "\t<tr><td>resource_4</td><td>NA</td></tr>\n",
       "\t<tr><td>resource_5</td><td>NA</td></tr>\n",
       "\t<tr><td>resource_6</td><td>NA</td></tr>\n",
       "</tbody>\n",
       "</table>\n"
      ],
      "text/latex": [
       "A tibble: 6 × 2\n",
       "\\begin{tabular}{ll}\n",
       " Resource & correct\\\\\n",
       " <chr> & <chr>\\\\\n",
       "\\hline\n",
       "\t resource\\_1 & NA\\\\\n",
       "\t resource\\_2 & NA\\\\\n",
       "\t resource\\_3 & NA\\\\\n",
       "\t resource\\_4 & NA\\\\\n",
       "\t resource\\_5 & NA\\\\\n",
       "\t resource\\_6 & NA\\\\\n",
       "\\end{tabular}\n"
      ],
      "text/markdown": [
       "\n",
       "A tibble: 6 × 2\n",
       "\n",
       "| Resource &lt;chr&gt; | correct &lt;chr&gt; |\n",
       "|---|---|\n",
       "| resource_1 | NA |\n",
       "| resource_2 | NA |\n",
       "| resource_3 | NA |\n",
       "| resource_4 | NA |\n",
       "| resource_5 | NA |\n",
       "| resource_6 | NA |\n",
       "\n"
      ],
      "text/plain": [
       "  Resource   correct\n",
       "1 resource_1 NA     \n",
       "2 resource_2 NA     \n",
       "3 resource_3 NA     \n",
       "4 resource_4 NA     \n",
       "5 resource_5 NA     \n",
       "6 resource_6 NA     "
      ]
     },
     "metadata": {},
     "output_type": "display_data"
    }
   ],
   "source": [
    "# Convert the dataframe \"seperated_data\" from wide data to long data\n",
    "\n",
    "seperate_data <- seperate_data %>% \n",
    "    pivot_longer(names_to = \"Resource\", values_to = \"correct\", resource_1:resource_10)\n",
    "\n",
    "head(seperate_data)"
   ]
  },
  {
   "cell_type": "code",
   "execution_count": 19,
   "id": "ccdf6d58",
   "metadata": {
    "execution": {
     "iopub.execute_input": "2024-09-13T19:14:32.320082Z",
     "iopub.status.busy": "2024-09-13T19:14:32.318410Z",
     "iopub.status.idle": "2024-09-13T19:14:32.408638Z",
     "shell.execute_reply": "2024-09-13T19:14:32.381761Z"
    },
    "papermill": {
     "duration": 0.106581,
     "end_time": "2024-09-13T19:14:32.411844",
     "exception": false,
     "start_time": "2024-09-13T19:14:32.305263",
     "status": "completed"
    },
    "tags": []
   },
   "outputs": [
    {
     "data": {
      "text/html": [
       "<table class=\"dataframe\">\n",
       "<caption>A tibble: 11 × 2</caption>\n",
       "<thead>\n",
       "\t<tr><th scope=col>correct</th><th scope=col>count</th></tr>\n",
       "\t<tr><th scope=col>&lt;chr&gt;</th><th scope=col>&lt;int&gt;</th></tr>\n",
       "</thead>\n",
       "<tbody>\n",
       "\t<tr><td>NA                                                 </td><td>597107</td></tr>\n",
       "\t<tr><td>Other online resources (e.g., videos, blogs, forum)</td><td> 70244</td></tr>\n",
       "\t<tr><td>Books / Physical media                             </td><td> 45406</td></tr>\n",
       "\t<tr><td>School (i.e., University, College, etc)            </td><td> 43957</td></tr>\n",
       "\t<tr><td>Online Courses or Certification                    </td><td> 43201</td></tr>\n",
       "\t<tr><td>On the job training                                </td><td> 40380</td></tr>\n",
       "\t<tr><td>Colleague                                          </td><td> 20523</td></tr>\n",
       "\t<tr><td>Friend or family member                            </td><td>  9936</td></tr>\n",
       "\t<tr><td>Coding Bootcamp                                    </td><td>  8602</td></tr>\n",
       "\t<tr><td>Hackathons (virtual or in-person)                  </td><td>  7033</td></tr>\n",
       "\t<tr><td>Other (please specify):                            </td><td>  5451</td></tr>\n",
       "</tbody>\n",
       "</table>\n"
      ],
      "text/latex": [
       "A tibble: 11 × 2\n",
       "\\begin{tabular}{ll}\n",
       " correct & count\\\\\n",
       " <chr> & <int>\\\\\n",
       "\\hline\n",
       "\t NA                                                  & 597107\\\\\n",
       "\t Other online resources (e.g., videos, blogs, forum) &  70244\\\\\n",
       "\t Books / Physical media                              &  45406\\\\\n",
       "\t School (i.e., University, College, etc)             &  43957\\\\\n",
       "\t Online Courses or Certification                     &  43201\\\\\n",
       "\t On the job training                                 &  40380\\\\\n",
       "\t Colleague                                           &  20523\\\\\n",
       "\t Friend or family member                             &   9936\\\\\n",
       "\t Coding Bootcamp                                     &   8602\\\\\n",
       "\t Hackathons (virtual or in-person)                   &   7033\\\\\n",
       "\t Other (please specify):                             &   5451\\\\\n",
       "\\end{tabular}\n"
      ],
      "text/markdown": [
       "\n",
       "A tibble: 11 × 2\n",
       "\n",
       "| correct &lt;chr&gt; | count &lt;int&gt; |\n",
       "|---|---|\n",
       "| NA                                                  | 597107 |\n",
       "| Other online resources (e.g., videos, blogs, forum) |  70244 |\n",
       "| Books / Physical media                              |  45406 |\n",
       "| School (i.e., University, College, etc)             |  43957 |\n",
       "| Online Courses or Certification                     |  43201 |\n",
       "| On the job training                                 |  40380 |\n",
       "| Colleague                                           |  20523 |\n",
       "| Friend or family member                             |   9936 |\n",
       "| Coding Bootcamp                                     |   8602 |\n",
       "| Hackathons (virtual or in-person)                   |   7033 |\n",
       "| Other (please specify):                             |   5451 |\n",
       "\n"
      ],
      "text/plain": [
       "   correct                                             count \n",
       "1  NA                                                  597107\n",
       "2  Other online resources (e.g., videos, blogs, forum)  70244\n",
       "3  Books / Physical media                               45406\n",
       "4  School (i.e., University, College, etc)              43957\n",
       "5  Online Courses or Certification                      43201\n",
       "6  On the job training                                  40380\n",
       "7  Colleague                                            20523\n",
       "8  Friend or family member                               9936\n",
       "9  Coding Bootcamp                                       8602\n",
       "10 Hackathons (virtual or in-person)                     7033\n",
       "11 Other (please specify):                               5451"
      ]
     },
     "metadata": {},
     "output_type": "display_data"
    }
   ],
   "source": [
    "#Determine the count for all learning method\n",
    "\n",
    "top_learning_avenue <- seperate_data %>% \n",
    "  group_by(correct) %>% \n",
    "  summarize(count = n()) %>% \n",
    "  arrange(desc(count))\n",
    "\n",
    "View(top_learning_avenue)"
   ]
  },
  {
   "cell_type": "markdown",
   "id": "7b270e1a",
   "metadata": {
    "papermill": {
     "duration": 0.011805,
     "end_time": "2024-09-13T19:14:32.436162",
     "exception": false,
     "start_time": "2024-09-13T19:14:32.424357",
     "status": "completed"
    },
    "tags": []
   },
   "source": [
    "## Fifth Question\n",
    "\n",
    "### Are you more likely to get a job as a developer if you have a master's degree?"
   ]
  },
  {
   "cell_type": "code",
   "execution_count": 20,
   "id": "035e2a93",
   "metadata": {
    "execution": {
     "iopub.execute_input": "2024-09-13T19:14:32.464802Z",
     "iopub.status.busy": "2024-09-13T19:14:32.463093Z",
     "iopub.status.idle": "2024-09-13T19:14:32.484294Z",
     "shell.execute_reply": "2024-09-13T19:14:32.482172Z"
    },
    "papermill": {
     "duration": 0.038932,
     "end_time": "2024-09-13T19:14:32.487550",
     "exception": false,
     "start_time": "2024-09-13T19:14:32.448618",
     "status": "completed"
    },
    "tags": []
   },
   "outputs": [
    {
     "name": "stdout",
     "output_type": "stream",
     "text": [
      "Rows: 89,184\n",
      "Columns: 3\n",
      "$ Employment \u001b[3m\u001b[90m<chr>\u001b[39m\u001b[23m NA, \"Employed, full-time\", \"Employed, full-time\", \"Employed…\n",
      "$ MainBranch \u001b[3m\u001b[90m<chr>\u001b[39m\u001b[23m \"None of these\", \"I am a developer by profession\", \"I am a …\n",
      "$ EdLevel    \u001b[3m\u001b[90m<chr>\u001b[39m\u001b[23m NA, \"Bachelor’s degree (B.A., B.S., B.Eng., etc.)\", \"Bachel…\n"
     ]
    }
   ],
   "source": [
    "glimpse(fifth_question)"
   ]
  },
  {
   "cell_type": "code",
   "execution_count": 21,
   "id": "63a632c3",
   "metadata": {
    "execution": {
     "iopub.execute_input": "2024-09-13T19:14:32.515189Z",
     "iopub.status.busy": "2024-09-13T19:14:32.513503Z",
     "iopub.status.idle": "2024-09-13T19:14:32.568399Z",
     "shell.execute_reply": "2024-09-13T19:14:32.565934Z"
    },
    "papermill": {
     "duration": 0.071714,
     "end_time": "2024-09-13T19:14:32.571303",
     "exception": false,
     "start_time": "2024-09-13T19:14:32.499589",
     "status": "completed"
    },
    "tags": []
   },
   "outputs": [
    {
     "data": {
      "text/html": [
       "<table class=\"dataframe\">\n",
       "<caption>A tibble: 8 × 2</caption>\n",
       "<thead>\n",
       "\t<tr><th scope=col>EdLevel</th><th scope=col>count_employed</th></tr>\n",
       "\t<tr><th scope=col>&lt;chr&gt;</th><th scope=col>&lt;int&gt;</th></tr>\n",
       "</thead>\n",
       "<tbody>\n",
       "\t<tr><td>Associate degree (A.A., A.S., etc.)                                               </td><td> 1710</td></tr>\n",
       "\t<tr><td>Bachelor’s degree (B.A., B.S., B.Eng., etc.)                                      </td><td>26145</td></tr>\n",
       "\t<tr><td>Master’s degree (M.A., M.S., M.Eng., MBA, etc.)                                   </td><td>14904</td></tr>\n",
       "\t<tr><td>Primary/elementary school                                                         </td><td>  307</td></tr>\n",
       "\t<tr><td>Professional degree (JD, MD, Ph.D, Ed.D, etc.)                                    </td><td> 2253</td></tr>\n",
       "\t<tr><td>Secondary school (e.g. American high school, German Realschule or Gymnasium, etc.)</td><td> 2468</td></tr>\n",
       "\t<tr><td>Some college/university study without earning a degree                            </td><td> 6165</td></tr>\n",
       "\t<tr><td>Something else                                                                    </td><td>  639</td></tr>\n",
       "</tbody>\n",
       "</table>\n"
      ],
      "text/latex": [
       "A tibble: 8 × 2\n",
       "\\begin{tabular}{ll}\n",
       " EdLevel & count\\_employed\\\\\n",
       " <chr> & <int>\\\\\n",
       "\\hline\n",
       "\t Associate degree (A.A., A.S., etc.)                                                &  1710\\\\\n",
       "\t Bachelor’s degree (B.A., B.S., B.Eng., etc.)                                       & 26145\\\\\n",
       "\t Master’s degree (M.A., M.S., M.Eng., MBA, etc.)                                    & 14904\\\\\n",
       "\t Primary/elementary school                                                          &   307\\\\\n",
       "\t Professional degree (JD, MD, Ph.D, Ed.D, etc.)                                     &  2253\\\\\n",
       "\t Secondary school (e.g. American high school, German Realschule or Gymnasium, etc.) &  2468\\\\\n",
       "\t Some college/university study without earning a degree                             &  6165\\\\\n",
       "\t Something else                                                                     &   639\\\\\n",
       "\\end{tabular}\n"
      ],
      "text/markdown": [
       "\n",
       "A tibble: 8 × 2\n",
       "\n",
       "| EdLevel &lt;chr&gt; | count_employed &lt;int&gt; |\n",
       "|---|---|\n",
       "| Associate degree (A.A., A.S., etc.)                                                |  1710 |\n",
       "| Bachelor’s degree (B.A., B.S., B.Eng., etc.)                                       | 26145 |\n",
       "| Master’s degree (M.A., M.S., M.Eng., MBA, etc.)                                    | 14904 |\n",
       "| Primary/elementary school                                                          |   307 |\n",
       "| Professional degree (JD, MD, Ph.D, Ed.D, etc.)                                     |  2253 |\n",
       "| Secondary school (e.g. American high school, German Realschule or Gymnasium, etc.) |  2468 |\n",
       "| Some college/university study without earning a degree                             |  6165 |\n",
       "| Something else                                                                     |   639 |\n",
       "\n"
      ],
      "text/plain": [
       "  EdLevel                                                                           \n",
       "1 Associate degree (A.A., A.S., etc.)                                               \n",
       "2 Bachelor’s degree (B.A., B.S., B.Eng., etc.)                                      \n",
       "3 Master’s degree (M.A., M.S., M.Eng., MBA, etc.)                                   \n",
       "4 Primary/elementary school                                                         \n",
       "5 Professional degree (JD, MD, Ph.D, Ed.D, etc.)                                    \n",
       "6 Secondary school (e.g. American high school, German Realschule or Gymnasium, etc.)\n",
       "7 Some college/university study without earning a degree                            \n",
       "8 Something else                                                                    \n",
       "  count_employed\n",
       "1  1710         \n",
       "2 26145         \n",
       "3 14904         \n",
       "4   307         \n",
       "5  2253         \n",
       "6  2468         \n",
       "7  6165         \n",
       "8   639         "
      ]
     },
     "metadata": {},
     "output_type": "display_data"
    }
   ],
   "source": [
    "#For this, we evaluate the total number of masters degree holders to the number of employed masters degree holders.\n",
    "#First, filter data for only employed developers respondents and get number of employed for each educational level\n",
    "\n",
    "masters_preference <- fifth_question %>% \n",
    "  filter(Employment %in% c(\"Employed, full-time\", \"Employed, part-time\", \"Independent contractor, freelancer, or self-employed\"), MainBranch == \"I am a developer by profession\")\n",
    "\n",
    "masters_preference <- masters_preference %>%\n",
    "  group_by(EdLevel) %>%\n",
    "  summarize(count_employed = n())\n",
    "\n",
    "View(masters_preference)"
   ]
  },
  {
   "cell_type": "code",
   "execution_count": 22,
   "id": "481777a8",
   "metadata": {
    "execution": {
     "iopub.execute_input": "2024-09-13T19:14:32.600740Z",
     "iopub.status.busy": "2024-09-13T19:14:32.598645Z",
     "iopub.status.idle": "2024-09-13T19:14:32.645100Z",
     "shell.execute_reply": "2024-09-13T19:14:32.642977Z"
    },
    "papermill": {
     "duration": 0.063709,
     "end_time": "2024-09-13T19:14:32.647899",
     "exception": false,
     "start_time": "2024-09-13T19:14:32.584190",
     "status": "completed"
    },
    "tags": []
   },
   "outputs": [
    {
     "data": {
      "text/html": [
       "<table class=\"dataframe\">\n",
       "<caption>A tibble: 9 × 2</caption>\n",
       "<thead>\n",
       "\t<tr><th scope=col>EdLevel</th><th scope=col>count_general</th></tr>\n",
       "\t<tr><th scope=col>&lt;chr&gt;</th><th scope=col>&lt;int&gt;</th></tr>\n",
       "</thead>\n",
       "<tbody>\n",
       "\t<tr><td>Associate degree (A.A., A.S., etc.)                                               </td><td> 2807</td></tr>\n",
       "\t<tr><td>Bachelor’s degree (B.A., B.S., B.Eng., etc.)                                      </td><td>36706</td></tr>\n",
       "\t<tr><td>Master’s degree (M.A., M.S., M.Eng., MBA, etc.)                                   </td><td>20543</td></tr>\n",
       "\t<tr><td>Primary/elementary school                                                         </td><td> 1905</td></tr>\n",
       "\t<tr><td>Professional degree (JD, MD, Ph.D, Ed.D, etc.)                                    </td><td> 3887</td></tr>\n",
       "\t<tr><td>Secondary school (e.g. American high school, German Realschule or Gymnasium, etc.)</td><td> 8897</td></tr>\n",
       "\t<tr><td>Some college/university study without earning a degree                            </td><td>11753</td></tr>\n",
       "\t<tr><td>Something else                                                                    </td><td> 1475</td></tr>\n",
       "\t<tr><td>NA                                                                                </td><td> 1211</td></tr>\n",
       "</tbody>\n",
       "</table>\n"
      ],
      "text/latex": [
       "A tibble: 9 × 2\n",
       "\\begin{tabular}{ll}\n",
       " EdLevel & count\\_general\\\\\n",
       " <chr> & <int>\\\\\n",
       "\\hline\n",
       "\t Associate degree (A.A., A.S., etc.)                                                &  2807\\\\\n",
       "\t Bachelor’s degree (B.A., B.S., B.Eng., etc.)                                       & 36706\\\\\n",
       "\t Master’s degree (M.A., M.S., M.Eng., MBA, etc.)                                    & 20543\\\\\n",
       "\t Primary/elementary school                                                          &  1905\\\\\n",
       "\t Professional degree (JD, MD, Ph.D, Ed.D, etc.)                                     &  3887\\\\\n",
       "\t Secondary school (e.g. American high school, German Realschule or Gymnasium, etc.) &  8897\\\\\n",
       "\t Some college/university study without earning a degree                             & 11753\\\\\n",
       "\t Something else                                                                     &  1475\\\\\n",
       "\t NA                                                                                 &  1211\\\\\n",
       "\\end{tabular}\n"
      ],
      "text/markdown": [
       "\n",
       "A tibble: 9 × 2\n",
       "\n",
       "| EdLevel &lt;chr&gt; | count_general &lt;int&gt; |\n",
       "|---|---|\n",
       "| Associate degree (A.A., A.S., etc.)                                                |  2807 |\n",
       "| Bachelor’s degree (B.A., B.S., B.Eng., etc.)                                       | 36706 |\n",
       "| Master’s degree (M.A., M.S., M.Eng., MBA, etc.)                                    | 20543 |\n",
       "| Primary/elementary school                                                          |  1905 |\n",
       "| Professional degree (JD, MD, Ph.D, Ed.D, etc.)                                     |  3887 |\n",
       "| Secondary school (e.g. American high school, German Realschule or Gymnasium, etc.) |  8897 |\n",
       "| Some college/university study without earning a degree                             | 11753 |\n",
       "| Something else                                                                     |  1475 |\n",
       "| NA                                                                                 |  1211 |\n",
       "\n"
      ],
      "text/plain": [
       "  EdLevel                                                                           \n",
       "1 Associate degree (A.A., A.S., etc.)                                               \n",
       "2 Bachelor’s degree (B.A., B.S., B.Eng., etc.)                                      \n",
       "3 Master’s degree (M.A., M.S., M.Eng., MBA, etc.)                                   \n",
       "4 Primary/elementary school                                                         \n",
       "5 Professional degree (JD, MD, Ph.D, Ed.D, etc.)                                    \n",
       "6 Secondary school (e.g. American high school, German Realschule or Gymnasium, etc.)\n",
       "7 Some college/university study without earning a degree                            \n",
       "8 Something else                                                                    \n",
       "9 NA                                                                                \n",
       "  count_general\n",
       "1  2807        \n",
       "2 36706        \n",
       "3 20543        \n",
       "4  1905        \n",
       "5  3887        \n",
       "6  8897        \n",
       "7 11753        \n",
       "8  1475        \n",
       "9  1211        "
      ]
     },
     "metadata": {},
     "output_type": "display_data"
    }
   ],
   "source": [
    "# Now, find the total number of respondents for each educational level, regardless of employment status\n",
    "\n",
    "general <- fifth_question %>%\n",
    "  group_by(EdLevel) %>%\n",
    "  summarize(count_general = n())\n",
    "\n",
    "View(general)"
   ]
  },
  {
   "cell_type": "code",
   "execution_count": 23,
   "id": "3ff626a0",
   "metadata": {
    "execution": {
     "iopub.execute_input": "2024-09-13T19:14:32.677257Z",
     "iopub.status.busy": "2024-09-13T19:14:32.675600Z",
     "iopub.status.idle": "2024-09-13T19:14:32.705520Z",
     "shell.execute_reply": "2024-09-13T19:14:32.703689Z"
    },
    "papermill": {
     "duration": 0.047469,
     "end_time": "2024-09-13T19:14:32.708044",
     "exception": false,
     "start_time": "2024-09-13T19:14:32.660575",
     "status": "completed"
    },
    "tags": []
   },
   "outputs": [
    {
     "data": {
      "text/html": [
       "<table class=\"dataframe\">\n",
       "<caption>A data.frame: 8 × 3</caption>\n",
       "<thead>\n",
       "\t<tr><th scope=col>EdLevel</th><th scope=col>count_employed</th><th scope=col>count_general</th></tr>\n",
       "\t<tr><th scope=col>&lt;chr&gt;</th><th scope=col>&lt;int&gt;</th><th scope=col>&lt;int&gt;</th></tr>\n",
       "</thead>\n",
       "<tbody>\n",
       "\t<tr><td>Associate degree (A.A., A.S., etc.)                                               </td><td> 1710</td><td> 2807</td></tr>\n",
       "\t<tr><td>Bachelor’s degree (B.A., B.S., B.Eng., etc.)                                      </td><td>26145</td><td>36706</td></tr>\n",
       "\t<tr><td>Master’s degree (M.A., M.S., M.Eng., MBA, etc.)                                   </td><td>14904</td><td>20543</td></tr>\n",
       "\t<tr><td>Primary/elementary school                                                         </td><td>  307</td><td> 1905</td></tr>\n",
       "\t<tr><td>Professional degree (JD, MD, Ph.D, Ed.D, etc.)                                    </td><td> 2253</td><td> 3887</td></tr>\n",
       "\t<tr><td>Secondary school (e.g. American high school, German Realschule or Gymnasium, etc.)</td><td> 2468</td><td> 8897</td></tr>\n",
       "\t<tr><td>Some college/university study without earning a degree                            </td><td> 6165</td><td>11753</td></tr>\n",
       "\t<tr><td>Something else                                                                    </td><td>  639</td><td> 1475</td></tr>\n",
       "</tbody>\n",
       "</table>\n"
      ],
      "text/latex": [
       "A data.frame: 8 × 3\n",
       "\\begin{tabular}{lll}\n",
       " EdLevel & count\\_employed & count\\_general\\\\\n",
       " <chr> & <int> & <int>\\\\\n",
       "\\hline\n",
       "\t Associate degree (A.A., A.S., etc.)                                                &  1710 &  2807\\\\\n",
       "\t Bachelor’s degree (B.A., B.S., B.Eng., etc.)                                       & 26145 & 36706\\\\\n",
       "\t Master’s degree (M.A., M.S., M.Eng., MBA, etc.)                                    & 14904 & 20543\\\\\n",
       "\t Primary/elementary school                                                          &   307 &  1905\\\\\n",
       "\t Professional degree (JD, MD, Ph.D, Ed.D, etc.)                                     &  2253 &  3887\\\\\n",
       "\t Secondary school (e.g. American high school, German Realschule or Gymnasium, etc.) &  2468 &  8897\\\\\n",
       "\t Some college/university study without earning a degree                             &  6165 & 11753\\\\\n",
       "\t Something else                                                                     &   639 &  1475\\\\\n",
       "\\end{tabular}\n"
      ],
      "text/markdown": [
       "\n",
       "A data.frame: 8 × 3\n",
       "\n",
       "| EdLevel &lt;chr&gt; | count_employed &lt;int&gt; | count_general &lt;int&gt; |\n",
       "|---|---|---|\n",
       "| Associate degree (A.A., A.S., etc.)                                                |  1710 |  2807 |\n",
       "| Bachelor’s degree (B.A., B.S., B.Eng., etc.)                                       | 26145 | 36706 |\n",
       "| Master’s degree (M.A., M.S., M.Eng., MBA, etc.)                                    | 14904 | 20543 |\n",
       "| Primary/elementary school                                                          |   307 |  1905 |\n",
       "| Professional degree (JD, MD, Ph.D, Ed.D, etc.)                                     |  2253 |  3887 |\n",
       "| Secondary school (e.g. American high school, German Realschule or Gymnasium, etc.) |  2468 |  8897 |\n",
       "| Some college/university study without earning a degree                             |  6165 | 11753 |\n",
       "| Something else                                                                     |   639 |  1475 |\n",
       "\n"
      ],
      "text/plain": [
       "  EdLevel                                                                           \n",
       "1 Associate degree (A.A., A.S., etc.)                                               \n",
       "2 Bachelor’s degree (B.A., B.S., B.Eng., etc.)                                      \n",
       "3 Master’s degree (M.A., M.S., M.Eng., MBA, etc.)                                   \n",
       "4 Primary/elementary school                                                         \n",
       "5 Professional degree (JD, MD, Ph.D, Ed.D, etc.)                                    \n",
       "6 Secondary school (e.g. American high school, German Realschule or Gymnasium, etc.)\n",
       "7 Some college/university study without earning a degree                            \n",
       "8 Something else                                                                    \n",
       "  count_employed count_general\n",
       "1  1710           2807        \n",
       "2 26145          36706        \n",
       "3 14904          20543        \n",
       "4   307           1905        \n",
       "5  2253           3887        \n",
       "6  2468           8897        \n",
       "7  6165          11753        \n",
       "8   639           1475        "
      ]
     },
     "metadata": {},
     "output_type": "display_data"
    }
   ],
   "source": [
    "#Join both tables together\n",
    "\n",
    "likelihood <- merge(masters_preference, general, by='EdLevel')\n",
    "View(likelihood)"
   ]
  },
  {
   "cell_type": "code",
   "execution_count": 24,
   "id": "ac0f05a7",
   "metadata": {
    "execution": {
     "iopub.execute_input": "2024-09-13T19:14:32.759841Z",
     "iopub.status.busy": "2024-09-13T19:14:32.736209Z",
     "iopub.status.idle": "2024-09-13T19:14:32.792725Z",
     "shell.execute_reply": "2024-09-13T19:14:32.790832Z"
    },
    "papermill": {
     "duration": 0.074548,
     "end_time": "2024-09-13T19:14:32.795374",
     "exception": false,
     "start_time": "2024-09-13T19:14:32.720826",
     "status": "completed"
    },
    "tags": []
   },
   "outputs": [
    {
     "data": {
      "text/html": [
       "<table class=\"dataframe\">\n",
       "<caption>A data.frame: 8 × 4</caption>\n",
       "<thead>\n",
       "\t<tr><th scope=col>EdLevel</th><th scope=col>count_employed</th><th scope=col>count_general</th><th scope=col>percentage_likelihood</th></tr>\n",
       "\t<tr><th scope=col>&lt;chr&gt;</th><th scope=col>&lt;int&gt;</th><th scope=col>&lt;int&gt;</th><th scope=col>&lt;dbl&gt;</th></tr>\n",
       "</thead>\n",
       "<tbody>\n",
       "\t<tr><td>Master’s degree (M.A., M.S., M.Eng., MBA, etc.)                                   </td><td>14904</td><td>20543</td><td>72.55</td></tr>\n",
       "\t<tr><td>Bachelor’s degree (B.A., B.S., B.Eng., etc.)                                      </td><td>26145</td><td>36706</td><td>71.23</td></tr>\n",
       "\t<tr><td>Associate degree (A.A., A.S., etc.)                                               </td><td> 1710</td><td> 2807</td><td>60.92</td></tr>\n",
       "\t<tr><td>Professional degree (JD, MD, Ph.D, Ed.D, etc.)                                    </td><td> 2253</td><td> 3887</td><td>57.96</td></tr>\n",
       "\t<tr><td>Some college/university study without earning a degree                            </td><td> 6165</td><td>11753</td><td>52.45</td></tr>\n",
       "\t<tr><td>Something else                                                                    </td><td>  639</td><td> 1475</td><td>43.32</td></tr>\n",
       "\t<tr><td>Secondary school (e.g. American high school, German Realschule or Gymnasium, etc.)</td><td> 2468</td><td> 8897</td><td>27.74</td></tr>\n",
       "\t<tr><td>Primary/elementary school                                                         </td><td>  307</td><td> 1905</td><td>16.12</td></tr>\n",
       "</tbody>\n",
       "</table>\n"
      ],
      "text/latex": [
       "A data.frame: 8 × 4\n",
       "\\begin{tabular}{llll}\n",
       " EdLevel & count\\_employed & count\\_general & percentage\\_likelihood\\\\\n",
       " <chr> & <int> & <int> & <dbl>\\\\\n",
       "\\hline\n",
       "\t Master’s degree (M.A., M.S., M.Eng., MBA, etc.)                                    & 14904 & 20543 & 72.55\\\\\n",
       "\t Bachelor’s degree (B.A., B.S., B.Eng., etc.)                                       & 26145 & 36706 & 71.23\\\\\n",
       "\t Associate degree (A.A., A.S., etc.)                                                &  1710 &  2807 & 60.92\\\\\n",
       "\t Professional degree (JD, MD, Ph.D, Ed.D, etc.)                                     &  2253 &  3887 & 57.96\\\\\n",
       "\t Some college/university study without earning a degree                             &  6165 & 11753 & 52.45\\\\\n",
       "\t Something else                                                                     &   639 &  1475 & 43.32\\\\\n",
       "\t Secondary school (e.g. American high school, German Realschule or Gymnasium, etc.) &  2468 &  8897 & 27.74\\\\\n",
       "\t Primary/elementary school                                                          &   307 &  1905 & 16.12\\\\\n",
       "\\end{tabular}\n"
      ],
      "text/markdown": [
       "\n",
       "A data.frame: 8 × 4\n",
       "\n",
       "| EdLevel &lt;chr&gt; | count_employed &lt;int&gt; | count_general &lt;int&gt; | percentage_likelihood &lt;dbl&gt; |\n",
       "|---|---|---|---|\n",
       "| Master’s degree (M.A., M.S., M.Eng., MBA, etc.)                                    | 14904 | 20543 | 72.55 |\n",
       "| Bachelor’s degree (B.A., B.S., B.Eng., etc.)                                       | 26145 | 36706 | 71.23 |\n",
       "| Associate degree (A.A., A.S., etc.)                                                |  1710 |  2807 | 60.92 |\n",
       "| Professional degree (JD, MD, Ph.D, Ed.D, etc.)                                     |  2253 |  3887 | 57.96 |\n",
       "| Some college/university study without earning a degree                             |  6165 | 11753 | 52.45 |\n",
       "| Something else                                                                     |   639 |  1475 | 43.32 |\n",
       "| Secondary school (e.g. American high school, German Realschule or Gymnasium, etc.) |  2468 |  8897 | 27.74 |\n",
       "| Primary/elementary school                                                          |   307 |  1905 | 16.12 |\n",
       "\n"
      ],
      "text/plain": [
       "  EdLevel                                                                           \n",
       "1 Master’s degree (M.A., M.S., M.Eng., MBA, etc.)                                   \n",
       "2 Bachelor’s degree (B.A., B.S., B.Eng., etc.)                                      \n",
       "3 Associate degree (A.A., A.S., etc.)                                               \n",
       "4 Professional degree (JD, MD, Ph.D, Ed.D, etc.)                                    \n",
       "5 Some college/university study without earning a degree                            \n",
       "6 Something else                                                                    \n",
       "7 Secondary school (e.g. American high school, German Realschule or Gymnasium, etc.)\n",
       "8 Primary/elementary school                                                         \n",
       "  count_employed count_general percentage_likelihood\n",
       "1 14904          20543         72.55                \n",
       "2 26145          36706         71.23                \n",
       "3  1710           2807         60.92                \n",
       "4  2253           3887         57.96                \n",
       "5  6165          11753         52.45                \n",
       "6   639           1475         43.32                \n",
       "7  2468           8897         27.74                \n",
       "8   307           1905         16.12                "
      ]
     },
     "metadata": {},
     "output_type": "display_data"
    }
   ],
   "source": [
    "#Calculate the percentage likelihood of getting employed for each educational level.\n",
    "\n",
    "likelihood <- likelihood %>%\n",
    "    mutate(percentage_likelihood = round(count_employed / count_general * 100, 2)) %>%\n",
    "    arrange(desc(percentage_likelihood))\n",
    "\n",
    "View(likelihood)"
   ]
  },
  {
   "cell_type": "markdown",
   "id": "191c049f",
   "metadata": {
    "papermill": {
     "duration": 0.013021,
     "end_time": "2024-09-13T19:14:32.821651",
     "exception": false,
     "start_time": "2024-09-13T19:14:32.808630",
     "status": "completed"
    },
    "tags": []
   },
   "source": [
    "### Masters degree holders are more likely to become employed with 72.55%\n",
    "### We can gain tons of insights from this dataset. Let me know if you'll like to add a question 😊"
   ]
  }
 ],
 "metadata": {
  "kaggle": {
   "accelerator": "none",
   "dataSources": [
    {
     "datasetId": 5695069,
     "sourceId": 9386322,
     "sourceType": "datasetVersion"
    }
   ],
   "dockerImageVersionId": 30749,
   "isGpuEnabled": false,
   "isInternetEnabled": true,
   "language": "r",
   "sourceType": "notebook"
  },
  "kernelspec": {
   "display_name": "R",
   "language": "R",
   "name": "ir"
  },
  "language_info": {
   "codemirror_mode": "r",
   "file_extension": ".r",
   "mimetype": "text/x-r-source",
   "name": "R",
   "pygments_lexer": "r",
   "version": "4.4.0"
  },
  "papermill": {
   "default_parameters": {},
   "duration": 71.037299,
   "end_time": "2024-09-13T19:14:32.956789",
   "environment_variables": {},
   "exception": null,
   "input_path": "__notebook__.ipynb",
   "output_path": "__notebook__.ipynb",
   "parameters": {},
   "start_time": "2024-09-13T19:13:21.919490",
   "version": "2.6.0"
  }
 },
 "nbformat": 4,
 "nbformat_minor": 5
}
